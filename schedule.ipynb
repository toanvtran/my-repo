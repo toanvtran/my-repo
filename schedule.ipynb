{
 "cells": [
  {
   "attachments": {},
   "cell_type": "markdown",
   "metadata": {},
   "source": [
    "# row: away , column : home"
   ]
  },
  {
   "attachments": {},
   "cell_type": "markdown",
   "metadata": {},
   "source": [
    "# Backtrack Algorithm\n"
   ]
  },
  {
   "cell_type": "code",
   "execution_count": 83,
   "metadata": {},
   "outputs": [],
   "source": [
    "def find_min(matrix:list):\n",
    "    ans = float('inf')\n",
    "    for row in matrix:\n",
    "        for entry in row:\n",
    "            if entry != 0 and entry < ans:\n",
    "                ans = entry\n",
    "    return ans"
   ]
  },
  {
   "cell_type": "code",
   "execution_count": 84,
   "metadata": {},
   "outputs": [
    {
     "name": "stdout",
     "output_type": "stream",
     "text": [
      "[[0, 2, 3, 10], [2, 0, 3, 6], [3, 3, 0, 9], [10, 6, 9, 0]]\n",
      "\n",
      "Found better configuration, the new best value is : 79\n",
      "The new best config is [[0, 3, 2, 1], [6, 0, 1, 2], [5, 4, 0, 3], [4, 5, 6, 0]]\n",
      "\n",
      "Found better configuration, the new best value is : 75\n",
      "The new best config is [[0, 3, 1, 2], [6, 0, 2, 1], [5, 4, 0, 3], [4, 5, 6, 0]]\n",
      "\n",
      "Found better configuration, the new best value is : 71\n",
      "The new best config is [[0, 3, 1, 2], [6, 0, 5, 1], [4, 2, 0, 3], [5, 4, 6, 0]]\n",
      "\n"
     ]
    }
   ],
   "source": [
    "import random\n",
    "import copy\n",
    "\n",
    "class Node():\n",
    "    def __init__(self,matrix:list,dis,week,tracking_pos) -> None:\n",
    "        self.matrix = matrix\n",
    "        self.dis = dis\n",
    "        self.week = week\n",
    "        self.tracking_pos = tracking_pos\n",
    "                        \n",
    "\n",
    "def get_sub_node(distance_matrix,node:Node):\n",
    "        \"\"\" returns the list contains all tuples: (matrix,pos,dis) \"\"\"\n",
    "        ans_matrix = []\n",
    "        final_ans = []\n",
    "\n",
    "        queue = [(node,0)]\n",
    "\n",
    "        current_week = node.week + 1\n",
    "        N = len(distance_matrix)\n",
    "        assert N%2 == 0, \"The number of teams must be even\"\n",
    "        \n",
    "        while queue:\n",
    "            temp,match = queue.pop()\n",
    "            matrix = temp.matrix\n",
    "            pos = temp.tracking_pos\n",
    "            dis = temp.dis\n",
    "            if match == N//2:\n",
    "                if temp.matrix not in ans_matrix:\n",
    "                    ans_matrix.append(temp.matrix)\n",
    "                    final_ans.append((temp.matrix,temp.tracking_pos,temp.dis))\n",
    "            else:\n",
    "                for i in range(N):\n",
    "                    if current_week not in matrix[i] and current_week not in [matrix[j][i] for\\\n",
    "                        j in range(N)]:\n",
    "                        for j in range(N):\n",
    "                            if i!=j and current_week not in matrix[j] and current_week not \\\n",
    "                                in [matrix[i][j] for i in range(N)]:\n",
    "                                if matrix[i][j] == None:\n",
    "                                    sub_matrix = copy.deepcopy(matrix)\n",
    "                                    sub_matrix[i][j] = current_week\n",
    "                                    sub_pos = copy.deepcopy(pos)\n",
    "                                    sub_pos[i],sub_pos[j] = j,j\n",
    "                                    sub_dis = dis + distance_matrix[pos[i]][j] + distance_matrix[pos[j]][j]\n",
    "                                    sub_Node = Node(sub_matrix,sub_dis,current_week,sub_pos)\n",
    "                                    queue.append((sub_Node,match+1))\n",
    "        return final_ans\n",
    "\n",
    "def backtrack_solve(input:list):\n",
    "    N = len(input)\n",
    "    queue = []\n",
    "    ## tracking the best value in the tree\n",
    "    best_value = float('inf')\n",
    "    \n",
    "    best_config = None\n",
    "    ##\n",
    "    ##initialize the root of the tree.\n",
    "    root_matrix = [[None for i in range(N)] for i in range(N)]\n",
    "    for i in range(N):\n",
    "        root_matrix[i][i] = 0\n",
    "    root_dis = 0\n",
    "    week = 0\n",
    "    root_tracking_pos = [i for i in range(N)]\n",
    "    root = Node(root_matrix,root_dis,week,root_tracking_pos)\n",
    "    queue.append(root)\n",
    "    while queue:\n",
    "        temp = queue.pop()\n",
    "        assert isinstance(temp, Node)\n",
    "\n",
    "        current_week = temp.week\n",
    "        if current_week == 2*N - 2:\n",
    "            if temp.dis < best_value:\n",
    "                best_config = temp.matrix\n",
    "                best_value = temp.dis\n",
    "                print(f\"Found better configuration, the new best value is : {best_value}\")\n",
    "                print(f\"The new best config is {best_config}\")\n",
    "                print()\n",
    "\n",
    "        else:\n",
    "            next_week = current_week + 1\n",
    "            list_of_nodes = get_sub_node(input,temp)\n",
    "            for item in list_of_nodes:\n",
    "                sub_matrix,sub_pos,sub_dis = item\n",
    "                if sub_dis < best_value:\n",
    "                    sub_Node = Node(sub_matrix,sub_dis,next_week,sub_pos)\n",
    "                    queue.append(sub_Node)\n",
    "\n",
    "# distance_matrix = [[random.randint(0,10) for i in range(4)] for i in range(4)]\n",
    "# for i in range(4):\n",
    "#     distance_matrix[i][i] = 0\n",
    "#     for j in range(4):\n",
    "#         distance_matrix[j][i] = distance_matrix[i][j]\n",
    "\n",
    "distance_matrix = [[0, 2, 3, 10], [2, 0, 3, 6], [3, 3, 0, 9], [10, 6, 9, 0]]\n",
    "\n",
    "print(distance_matrix)\n",
    "print()\n",
    "backtrack_solve(input=distance_matrix)\n"
   ]
  },
  {
   "attachments": {},
   "cell_type": "markdown",
   "metadata": {},
   "source": [
    "# Greedy algorithm\n"
   ]
  },
  {
   "cell_type": "code",
   "execution_count": 85,
   "metadata": {},
   "outputs": [
    {
     "name": "stdout",
     "output_type": "stream",
     "text": [
      "The reasonable cost when using Greedy Search is 77\n"
     ]
    }
   ],
   "source": [
    "### Greedy Search ###\n",
    "def greedy_solve(input:list):\n",
    "    N = len(input)\n",
    "    queue = []\n",
    "    ##initialize the root of the tree.\n",
    "    root_matrix = [[None for i in range(N)] for i in range(N)]\n",
    "    for i in range(N):\n",
    "        root_matrix[i][i] = 0\n",
    "    root_dis = 0\n",
    "    week = 0\n",
    "    root_tracking_pos = [i for i in range(N)]\n",
    "    root = Node(root_matrix,root_dis,week,root_tracking_pos)\n",
    "    queue.append(root)\n",
    "    while queue:\n",
    "        temp = queue.pop()\n",
    "        assert isinstance(temp, Node)\n",
    "\n",
    "        current_week = temp.week\n",
    "        if current_week == 2*N - 2:\n",
    "            return (temp.matrix,temp.dis)\n",
    "        else:\n",
    "            next_week = current_week + 1\n",
    "            list_of_nodes = get_sub_node(input,temp)\n",
    "            #node: sub_matrix,sub_pos,sub_dis\n",
    "            new_list = sorted(list_of_nodes,key=lambda x:x[2])\n",
    "            sub_matrix,sub_pos,sub_dis = list_of_nodes[0]\n",
    "            new_node = Node(sub_matrix,sub_dis,next_week,sub_pos)\n",
    "            queue.append(new_node)\n",
    "\n",
    "mat,cost = greedy_solve(distance_matrix)\n",
    "print(f'The reasonable cost when using Greedy Search is {cost}')\n"
   ]
  },
  {
   "attachments": {},
   "cell_type": "markdown",
   "metadata": {},
   "source": [
    "# BeamSearch algorithm"
   ]
  },
  {
   "cell_type": "code",
   "execution_count": 86,
   "metadata": {},
   "outputs": [
    {
     "name": "stdout",
     "output_type": "stream",
     "text": [
      "The reasonable cost when using Beam Sear is 79\n"
     ]
    }
   ],
   "source": [
    "def beam_solve(input,k):\n",
    "    N = len(input)\n",
    "    queue = []\n",
    "    ## tracking the best value in the tree\n",
    "    c_min = find_min(input)\n",
    "\n",
    "    ##\n",
    "    ##initialize the root of the tree.\n",
    "    root_matrix = [[None for i in range(N)] for i in range(N)]\n",
    "    for i in range(N):\n",
    "        root_matrix[i][i] = 0\n",
    "    root_dis = 0\n",
    "    week = 0\n",
    "    root_tracking_pos = [i for i in range(N)]\n",
    "    root = Node(root_matrix,root_dis,week,root_tracking_pos)\n",
    "    queue.append(root)\n",
    "    best = None\n",
    "    \n",
    "    while True:\n",
    "        nodes = copy.deepcopy(queue) \n",
    "        queue = []\n",
    "        if nodes[0].week == 2*N - 2:\n",
    "            for node in nodes:\n",
    "                if best == None:\n",
    "                    best = node.matrix,node.dis\n",
    "                else:\n",
    "                    if node.dis < best[1]:\n",
    "                        best = node.matrix,node.dis\n",
    "            break\n",
    "        else:\n",
    "            next_week = nodes[0].week + 1\n",
    "            for node in nodes:\n",
    "                lis = get_sub_node(input,node)\n",
    "                sub_nodes = [Node(sub_matrix,sub_dis,next_week,sub_pos) for \\\n",
    "                    (sub_matrix,sub_pos,sub_dis) in lis]\n",
    "                queue += sub_nodes\n",
    "            queue = sorted(queue,key=lambda x: x.dis)[:k]\n",
    "\n",
    "    return best\n",
    "\n",
    "# distance_matrix = [[random.randint(0,10) for i in range(8)] for i in range(8)]\n",
    "# for i in range(8):\n",
    "#     distance_matrix[i][i] = 0\n",
    "#     for j in range(8):\n",
    "#         distance_matrix[j][i] = distance_matrix[i][j]\n",
    "\n",
    "config,val = beam_solve(distance_matrix,10) \n",
    "print(f'The reasonable cost when using Beam Sear is {val}')"
   ]
  },
  {
   "attachments": {},
   "cell_type": "markdown",
   "metadata": {},
   "source": [
    "# Local Search"
   ]
  },
  {
   "cell_type": "code",
   "execution_count": 87,
   "metadata": {},
   "outputs": [],
   "source": [
    "import traceback\n",
    "import random\n",
    "import numpy \n",
    "\n",
    "def generate(N):\n",
    "\n",
    "    mat_0 = list()\n",
    "    for i in range(N):\n",
    "        row = [None]*N\n",
    "        row[i] = 0\n",
    "        mat_0.append(row)\n",
    "\n",
    "    all_coors_0 = list((a,b) for a in range(0,N) for b in range(0,N))\n",
    "    for i in range(N):\n",
    "        all_coors_0.remove((i,i))\n",
    "\n",
    "    n_choices_0 = dict()\n",
    "    choices_0 = dict()\n",
    "    for i in range(1,N+1):\n",
    "        n_choices_0[i] = N-1\n",
    "        choices_0[i] = [a for a in range(1,N+1) if a != i]\n",
    "    \n",
    "    univ_tab = dict()\n",
    "\n",
    "    univ_tab[0] = [copy.deepcopy(n_choices_0), copy.deepcopy(choices_0), copy.deepcopy(all_coors_0), copy.deepcopy(mat_0)]\n",
    "\n",
    "    global result\n",
    "    result = []\n",
    "\n",
    "    def construct_mat(n):\n",
    "        global result\n",
    "        if n == 2*N - 2:\n",
    "            result = univ_tab[n][3]\n",
    "        else:\n",
    "            nextweek = construct_week(n+1)\n",
    "            if nextweek == False:\n",
    "                construct_mat(n)\n",
    "            elif nextweek == 'Reset':\n",
    "                construct_mat(n-1)\n",
    "            else:\n",
    "                univ_tab[n+1] = copy.deepcopy(nextweek)\n",
    "                construct_mat(n+1)\n",
    "\n",
    "    # functions for contructing week \n",
    "\n",
    "    def create_priority_queue(n_choices_f):\n",
    "        L = list()\n",
    "        for a,b in n_choices_f.items():\n",
    "            L.append((b,a))\n",
    "\n",
    "        L.sort()\n",
    "\n",
    "        Q = list()\n",
    "        for item in L:\n",
    "            Q.append(item[1])\n",
    "        return Q\n",
    "\n",
    "    def check_choices(choices_copy):\n",
    "        L = list()\n",
    "        for key in choices_copy.keys():\n",
    "            if len(choices_copy[key]) == 0:\n",
    "                L.append(key)\n",
    "        for key in L:\n",
    "            choices_copy.pop(key)\n",
    "\n",
    "    def create_n_choices(choices):\n",
    "        n_choices_f = dict()\n",
    "        for key in choices.keys():\n",
    "            n_choices_f[key] = len(choices[key])\n",
    "        \n",
    "        return n_choices_f\n",
    "        \n",
    "    def choose_match(a: int, n_choices: dict, choices: dict, choices_copy: dict, all_coors: list, rest: list, queue: list, mat: list, week: int, p_queue: list, b = None):\n",
    "        \n",
    "        if b == None:\n",
    "            b = random.choice(choices_copy[a])\n",
    "\n",
    "        rest.remove(a)\n",
    "        rest.remove(b)\n",
    "        queue.remove(a)\n",
    "        queue.remove(b)\n",
    "        p_queue = copy.deepcopy(queue)\n",
    "\n",
    "        for key in choices_copy.keys():\n",
    "            if a in choices_copy[key]:\n",
    "                choices_copy[key].remove(a)\n",
    "            if b in choices_copy[key]:\n",
    "                choices_copy[key].remove(b)\n",
    "        choices_copy.pop(a)\n",
    "        choices_copy.pop(b)\n",
    "\n",
    "        RC = []\n",
    "        if (a-1,b-1) in all_coors:\n",
    "            RC.append((a,b))\n",
    "        if (b-1,a-1) in all_coors:\n",
    "            RC.append((b,a))\n",
    "        \n",
    "        (c,d) = random.choice(RC)\n",
    "\n",
    "        all_coors.remove((c-1,d-1))\n",
    "\n",
    "        if len(RC) == 1:\n",
    "            n_choices[a] -= 1\n",
    "            n_choices[b] -= 1\n",
    "            choices[a].remove(b)\n",
    "            choices[b].remove(a)\n",
    "\n",
    "        mat[c-1][d-1] = week\n",
    "        \n",
    "    # constructing week\n",
    "\n",
    "    def construct_week(m):\n",
    "\n",
    "        univ = copy.deepcopy(univ_tab[m-1])\n",
    "        # n_choices = univ[0]\n",
    "        # choices = univ[1]\n",
    "        # all_coors = univ[2]\n",
    "        # mat = univ[3]\n",
    "        \n",
    "        choices_copy = copy.deepcopy(univ[1])\n",
    "\n",
    "        queue = create_priority_queue(univ[0])\n",
    "\n",
    "        p_queue = queue[:]\n",
    "        rest = [i for i in range(1,N+1)]\n",
    "\n",
    "        while len(p_queue) >=1:\n",
    "\n",
    "            if len(rest) <= 2:\n",
    "                if len(rest) == 1:\n",
    "                    return False\n",
    "                else:\n",
    "                    if rest[1] not in univ[1][rest[0]]:\n",
    "                        return False\n",
    "                    else:\n",
    "                        check_choices(choices_copy)\n",
    "                        choose_match(rest[1], univ[0], univ[1], choices_copy, univ[2], rest, queue, univ[3], m, p_queue, rest[0])\n",
    "                        return univ\n",
    "            else:\n",
    "                check_choices(choices_copy)\n",
    "                queue = create_priority_queue(create_n_choices(choices_copy))\n",
    "                p_queue = queue[:]\n",
    "\n",
    "                i = p_queue[0]\n",
    "\n",
    "                # print('Week', end ='')\n",
    "                # print(m)\n",
    "\n",
    "                choose_match(i, univ[0], univ[1], choices_copy, univ[2], rest, queue, univ[3], m, p_queue)\n",
    "\n",
    "                if len(choices_copy.keys()) % 2 != 0:\n",
    "                    return 'Reset'\n",
    "\n",
    "    try:\n",
    "        construct_mat(0)\n",
    "    except Exception:\n",
    "\n",
    "        construct_mat(0)\n",
    "\n",
    "    return result\n",
    "\n",
    "\n",
    "def get_neighbors(initialize): #initialize: mat,cost\n",
    "    '''return list of (mat,cost)'''\n",
    "    mat,cost = initialize\n",
    "    M = copy.deepcopy(mat)\n",
    "    N = len(M)\n",
    "    \n",
    "    all_neighbors = list()\n",
    "\n",
    "    def team_cost(team,matrix,d_matrix):\n",
    "        away = list(zip(list(matrix[team][i] for i in range(0,N)),range(1,N+1)))\n",
    "        home = list(zip(list(matrix[i][team] for i in range(0,N)),list(team + 1 for j in range(0,N))))\n",
    "        home.sort()\n",
    "        home.pop(0)\n",
    "        team_schedule = away + home\n",
    "        team_schedule.sort()\n",
    "        C = 0\n",
    "        for i in range(len(team_schedule)-1):\n",
    "            C += d_matrix[team_schedule[i][1] - 1][team_schedule[i+1][1] - 1]\n",
    "        return C\n",
    "        \n",
    "    def match_swap(coor):\n",
    "        Y = copy.deepcopy(mat)\n",
    "        temp = Y[coor[0]][coor[1]]\n",
    "        Y[coor[0]][coor[1]] = Y[coor[1]][coor[0]]\n",
    "        Y[coor[1]][coor[0]] = temp\n",
    "\n",
    "        A = team_cost(coor[0],mat,distance_matrix) + team_cost(coor[1],mat,distance_matrix) \n",
    "        B = team_cost(coor[0],Y,distance_matrix) + team_cost(coor[1],Y,distance_matrix)\n",
    "        cost_Y = cost - A + B\n",
    "        return (Y, cost_Y)\n",
    "\n",
    "    def team_swap(teams):\n",
    "        a,b = teams\n",
    "        a -= 1\n",
    "        b -= 1\n",
    "        Y = copy.deepcopy(mat)\n",
    "        Y_1 = numpy.array(copy.deepcopy(Y))\n",
    "        \n",
    "        def replace_in_mat(x,y,S):\n",
    "            temp = S[x].copy()\n",
    "            S[x] = S[y].copy()\n",
    "            S[y] = temp.copy()\n",
    "\n",
    "            S[x][y] = S[x][x]\n",
    "            S[x][x] = 0\n",
    "\n",
    "            S[y][x] = S[y][y]\n",
    "            S[y][y] = 0\n",
    "\n",
    "        replace_in_mat(a,b,Y_1)\n",
    "        Y_1 = Y_1.T.copy()\n",
    "        \n",
    "        replace_in_mat(a,b,Y_1)\n",
    "        Y_1 = Y_1.T.copy()\n",
    "\n",
    "        Y = copy.deepcopy(Y_1.tolist())\n",
    "        return (Y, compute_cost(distance_matrix, Y))\n",
    "    \n",
    "    iterate = list((j,i) for i in range(0,N) for j in range(0,i))\n",
    "\n",
    "    for coor in iterate:\n",
    "        mat_1, cost_1 = copy.deepcopy(match_swap(coor))\n",
    "        all_neighbors.append((mat_1, cost_1))\n",
    "\n",
    "\n",
    "    iterate = list((i,j) for i in range(1,N + 1) for j in range(i, N + 1))\n",
    "\n",
    "    for coor in iterate:\n",
    "        mat_1, cost_1 = copy.deepcopy(team_swap(coor))\n",
    "        all_neighbors.append((mat_1, cost_1))\n",
    "    \n",
    "    return all_neighbors\n",
    "\n",
    "\n",
    "def compute_cost(distance_matrix,matrix):\n",
    "    '''compute cost of a solution'''\n",
    "    num_of_teams = len(matrix)\n",
    "    cost = 0\n",
    "    for team in range(num_of_teams):\n",
    "        current_pos = team\n",
    "        team_dis = 0\n",
    "        current_week = 0\n",
    "        while current_week < 2*num_of_teams - 2:\n",
    "            current_week = current_week + 1\n",
    "            flag = True\n",
    "            for index in range(num_of_teams):\n",
    "                if matrix[team][index] == current_week:\n",
    "                    old_pos = current_pos\n",
    "                    current_pos = index\n",
    "                    team_dis += distance_matrix[old_pos][current_pos]\n",
    "                    flag = False\n",
    "                    break\n",
    "            if flag: # da san nha\n",
    "                old_pos = current_pos\n",
    "                current_pos = team\n",
    "                team_dis += distance_matrix[old_pos][current_pos]\n",
    "\n",
    "        cost += team_dis\n",
    "        \n",
    "    return cost\n",
    "    \n"
   ]
  },
  {
   "cell_type": "code",
   "execution_count": 88,
   "metadata": {},
   "outputs": [
    {
     "name": "stdout",
     "output_type": "stream",
     "text": [
      "The reasonable cost when using Local Search is 105\n"
     ]
    }
   ],
   "source": [
    "def local_solve(input):\n",
    "    # random inial\n",
    "    #input: distance matrix\n",
    "    #return the schedule: matrix , cost\n",
    "    N = len(input)\n",
    "    random_matrix = generate(N)\n",
    "    cost = compute_cost(input,random_matrix)\n",
    "    initialize = random_matrix,cost\n",
    "    flag = False\n",
    "    while flag:\n",
    "        neighbors = get_neighbors(initialize)\n",
    "        for neighbor in neighbors:\n",
    "            #neighbor: matrix:schedule,cost\n",
    "            schedule,cost = neighbor\n",
    "            flag = False\n",
    "            if cost < initialize[1]:\n",
    "                initialize = neighbor\n",
    "                flag = True\n",
    "    return initialize[0],initialize[1]\n",
    "config , val = local_solve(distance_matrix)\n",
    "print(f'The reasonable cost when using Local Search is {val}')\n"
   ]
  },
  {
   "attachments": {},
   "cell_type": "markdown",
   "metadata": {},
   "source": [
    "# Meta heuristic algorithm"
   ]
  },
  {
   "cell_type": "markdown",
   "metadata": {},
   "source": [
    "### iterative local search"
   ]
  },
  {
   "cell_type": "code",
   "execution_count": 89,
   "metadata": {},
   "outputs": [
    {
     "name": "stdout",
     "output_type": "stream",
     "text": [
      "The reasonable cost when using Iterative Local Search is 73\n"
     ]
    }
   ],
   "source": [
    "def iterative_local_solve(input,K):\n",
    "    best_config = None\n",
    "    best_cost = float('inf')\n",
    "    for i in range(K):\n",
    "        matrix,cost = local_solve(input)\n",
    "        if cost < best_cost:\n",
    "            best_cost = cost\n",
    "            best_config = matrix\n",
    "\n",
    "    return best_config,best_cost\n",
    "mat,cost = iterative_local_solve(distance_matrix,K=100)\n",
    "print(f'The reasonable cost when using Iterative Local Search is {cost}')"
   ]
  },
  {
   "attachments": {},
   "cell_type": "markdown",
   "metadata": {},
   "source": [
    "### gibb sampling: but this method is not efficent yet"
   ]
  },
  {
   "cell_type": "code",
   "execution_count": 90,
   "metadata": {},
   "outputs": [],
   "source": [
    "def gibb_sampling(input,K,factor):\n",
    "    best_config = None\n",
    "    best_cost = float('inf')\n",
    "    #initialize start position\n",
    "    mat = generate(len(input))\n",
    "    current_postion = (mat,compute_cost(distance_matrix,mat))\n",
    "    #\n",
    "    \n",
    "    for i in range(K):\n",
    "        #choosing a random number:\n",
    "        num = random.random()\n",
    "\n",
    "        list_of_neighs = get_neighbors(current_postion) #mat,cost\n",
    "        sum_of_cost = sum(factor**x[1] for x in list_of_neighs)\n",
    "        accumulate = 0\n",
    "        for i in range(len(list_of_neighs)):\n",
    "            mat,cost = list_of_neighs[i]\n",
    "            accumulate += factor ** cost\n",
    "            port = accumulate / sum_of_cost\n",
    "            if port > num:\n",
    "                current_postion = list_of_neighs[i-1]\n",
    "                break\n",
    "    return current_postion\n"
   ]
  },
  {
   "cell_type": "code",
   "execution_count": 91,
   "metadata": {},
   "outputs": [
    {
     "name": "stdout",
     "output_type": "stream",
     "text": [
      "The reasonable cost when using Gibb_sampling is 105\n"
     ]
    }
   ],
   "source": [
    "mat,cost = gibb_sampling(distance_matrix,1000,10)\n",
    "print(f'The reasonable cost when using Gibb_sampling is {cost}')"
   ]
  },
  {
   "attachments": {},
   "cell_type": "markdown",
   "metadata": {},
   "source": [
    "# Compare the performance of each algorithm.\n"
   ]
  },
  {
   "cell_type": "code",
   "execution_count": 92,
   "metadata": {},
   "outputs": [],
   "source": [
    "n = int(input())\n",
    "distance_matrix = [[random.randint(0,10) for i in range(n)] for i in range(n)]\n",
    "for i in range(n):\n",
    "    distance_matrix[i][i] = 0\n",
    "    for j in range(n):\n",
    "        distance_matrix[j][i] = distance_matrix[i][j]\n",
    "    "
   ]
  },
  {
   "cell_type": "code",
   "execution_count": 93,
   "metadata": {},
   "outputs": [
    {
     "data": {
      "text/plain": [
       "10"
      ]
     },
     "execution_count": 93,
     "metadata": {},
     "output_type": "execute_result"
    }
   ],
   "source": [
    "n"
   ]
  },
  {
   "cell_type": "code",
   "execution_count": 105,
   "metadata": {},
   "outputs": [
    {
     "name": "stdout",
     "output_type": "stream",
     "text": [
      "([[0, 5, 2, 4, 17, 6, 8, 13, 12, 15], [9, 0, 13, 6, 1, 12, 4, 11, 16, 7], [1, 18, 0, 7, 11, 3, 17, 15, 14, 4], [16, 2, 5, 0, 13, 14, 1, 3, 11, 17], [14, 3, 12, 9, 0, 2, 5, 8, 4, 10], [11, 10, 8, 18, 15, 0, 7, 5, 13, 1], [10, 15, 16, 12, 6, 9, 0, 18, 3, 13], [7, 17, 9, 10, 16, 4, 14, 0, 1, 12], [18, 8, 10, 15, 7, 17, 2, 6, 0, 5], [3, 14, 6, 8, 18, 16, 11, 2, 9, 0]], 744)\n",
      "([[0, 18, 15, 7, 12, 9, 8, 17, 2, 13], [11, 0, 9, 12, 16, 2, 13, 1, 6, 8], [1, 10, 0, 13, 5, 6, 7, 18, 12, 17], [6, 3, 4, 0, 17, 1, 2, 9, 16, 18], [10, 15, 2, 14, 0, 7, 6, 8, 18, 3], [5, 17, 3, 8, 13, 0, 18, 4, 14, 11], [4, 14, 11, 5, 1, 16, 0, 3, 17, 15], [14, 7, 16, 15, 11, 10, 12, 0, 5, 6], [3, 4, 8, 11, 9, 15, 10, 13, 0, 7], [16, 5, 14, 10, 4, 12, 9, 2, 1, 0]], 608)\n",
      "([[0, 6, 7, 10, 16, 2, 9, 8, 3, 4], [1, 0, 8, 2, 11, 9, 7, 14, 17, 12], [11, 4, 0, 3, 17, 18, 15, 2, 1, 9], [18, 5, 6, 0, 15, 11, 4, 16, 7, 14], [12, 10, 14, 13, 0, 1, 8, 9, 2, 5], [5, 3, 16, 12, 7, 0, 13, 6, 8, 10], [14, 18, 12, 1, 6, 17, 0, 5, 10, 3], [13, 15, 10, 17, 3, 4, 11, 0, 18, 1], [15, 13, 5, 9, 4, 14, 16, 12, 0, 6], [17, 16, 13, 8, 18, 15, 2, 7, 11, 0]], 700)\n"
     ]
    }
   ],
   "source": [
    "# print(greedy_solve(distance_matrix))\n",
    "# print(beam_solve(distance_matrix,k=10))\n",
    "print(local_solve(distance_matrix))\n",
    "print(iterative_local_solve(distance_matrix,K=30))\n",
    "print(gibb_sampling(distance_matrix,K=50,factor=1000))"
   ]
  },
  {
   "attachments": {},
   "cell_type": "markdown",
   "metadata": {},
   "source": [
    "### Performance of greedy and beam search\n",
    "These two algorithms are not fast because the complexity of get_sub_node() function is O(n^6)\n",
    "\n",
    "\n",
    "But the performance is better than local search and meta heuristic with high probability"
   ]
  },
  {
   "cell_type": "code",
   "execution_count": 41,
   "metadata": {},
   "outputs": [
    {
     "name": "stdout",
     "output_type": "stream",
     "text": [
      "([[0, 8, 9, 10, 11, 12, 13, 14], [1, 0, 10, 9, 12, 11, 14, 13], [2, 3, 0, 8, 13, 14, 11, 12], [3, 2, 1, 0, 14, 13, 12, 11], [4, 5, 6, 7, 0, 8, 9, 10], [5, 4, 7, 6, 1, 0, 10, 9], [6, 7, 4, 5, 2, 3, 0, 8], [7, 6, 5, 4, 3, 2, 1, 0]], 36804)\n",
      "([[0, 10, 1, 8, 9, 11, 2, 3], [7, 0, 3, 11, 2, 9, 14, 8], [13, 6, 0, 12, 8, 10, 9, 11], [5, 4, 2, 0, 3, 7, 1, 6], [14, 1, 7, 10, 0, 6, 4, 5], [12, 5, 4, 14, 13, 0, 3, 2], [6, 12, 5, 13, 11, 8, 0, 7], [4, 13, 14, 9, 12, 1, 10, 0]], 23799)\n"
     ]
    }
   ],
   "source": [
    "print(greedy_solve(distance_matrix))\n",
    "print(beam_solve(distance_matrix,k=10))"
   ]
  }
 ],
 "metadata": {
  "kernelspec": {
   "display_name": "Python 3.9.13 ('base')",
   "language": "python",
   "name": "python3"
  },
  "language_info": {
   "codemirror_mode": {
    "name": "ipython",
    "version": 3
   },
   "file_extension": ".py",
   "mimetype": "text/x-python",
   "name": "python",
   "nbconvert_exporter": "python",
   "pygments_lexer": "ipython3",
   "version": "3.9.13"
  },
  "orig_nbformat": 4,
  "vscode": {
   "interpreter": {
    "hash": "40d3a090f54c6569ab1632332b64b2c03c39dcf918b08424e98f38b5ae0af88f"
   }
  }
 },
 "nbformat": 4,
 "nbformat_minor": 2
}
