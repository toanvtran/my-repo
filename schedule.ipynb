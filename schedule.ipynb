{
 "cells": [
  {
   "attachments": {},
   "cell_type": "markdown",
   "metadata": {},
   "source": [
    "# row: away , column : home"
   ]
  },
  {
   "attachments": {},
   "cell_type": "markdown",
   "metadata": {},
   "source": [
    "# Backtrack Algorithm\n"
   ]
  },
  {
   "cell_type": "code",
   "execution_count": 83,
   "metadata": {},
   "outputs": [],
   "source": [
    "def find_min(matrix:list):\n",
    "    ans = float('inf')\n",
    "    for row in matrix:\n",
    "        for entry in row:\n",
    "            if entry != 0 and entry < ans:\n",
    "                ans = entry\n",
    "    return ans"
   ]
  },
  {
   "cell_type": "code",
   "execution_count": 84,
   "metadata": {},
   "outputs": [
    {
     "name": "stdout",
     "output_type": "stream",
     "text": [
      "[[0, 2, 3, 10], [2, 0, 3, 6], [3, 3, 0, 9], [10, 6, 9, 0]]\n",
      "\n",
      "Found better configuration, the new best value is : 79\n",
      "The new best config is [[0, 3, 2, 1], [6, 0, 1, 2], [5, 4, 0, 3], [4, 5, 6, 0]]\n",
      "\n",
      "Found better configuration, the new best value is : 75\n",
      "The new best config is [[0, 3, 1, 2], [6, 0, 2, 1], [5, 4, 0, 3], [4, 5, 6, 0]]\n",
      "\n",
      "Found better configuration, the new best value is : 71\n",
      "The new best config is [[0, 3, 1, 2], [6, 0, 5, 1], [4, 2, 0, 3], [5, 4, 6, 0]]\n",
      "\n"
     ]
    }
   ],
   "source": [
    "import random\n",
    "import copy\n",
    "\n",
    "class Node():\n",
    "    def __init__(self,matrix:list,dis,week,tracking_pos) -> None:\n",
    "        self.matrix = matrix\n",
    "        self.dis = dis\n",
    "        self.week = week\n",
    "        self.tracking_pos = tracking_pos\n",
    "                        \n",
    "\n",
    "def get_sub_node(distance_matrix,node:Node):\n",
    "        \"\"\" returns the list contains all tuples: (matrix,pos,dis) \"\"\"\n",
    "        ans_matrix = []\n",
    "        final_ans = []\n",
    "\n",
    "        queue = [(node,0)]\n",
    "\n",
    "        current_week = node.week + 1\n",
    "        N = len(distance_matrix)\n",
    "        assert N%2 == 0, \"The number of teams must be even\"\n",
    "        \n",
    "        while queue:\n",
    "            temp,match = queue.pop()\n",
    "            matrix = temp.matrix\n",
    "            pos = temp.tracking_pos\n",
    "            dis = temp.dis\n",
    "            if match == N//2:\n",
    "                if temp.matrix not in ans_matrix:\n",
    "                    ans_matrix.append(temp.matrix)\n",
    "                    final_ans.append((temp.matrix,temp.tracking_pos,temp.dis))\n",
    "            else:\n",
    "                for i in range(N):\n",
    "                    if current_week not in matrix[i] and current_week not in [matrix[j][i] for\\\n",
    "                        j in range(N)]:\n",
    "                        for j in range(N):\n",
    "                            if i!=j and current_week not in matrix[j] and current_week not \\\n",
    "                                in [matrix[i][j] for i in range(N)]:\n",
    "                                if matrix[i][j] == None:\n",
    "                                    sub_matrix = copy.deepcopy(matrix)\n",
    "                                    sub_matrix[i][j] = current_week\n",
    "                                    sub_pos = copy.deepcopy(pos)\n",
    "                                    sub_pos[i],sub_pos[j] = j,j\n",
    "                                    sub_dis = dis + distance_matrix[pos[i]][j] + distance_matrix[pos[j]][j]\n",
    "                                    sub_Node = Node(sub_matrix,sub_dis,current_week,sub_pos)\n",
    "                                    queue.append((sub_Node,match+1))\n",
    "        return final_ans\n",
    "\n",
    "def backtrack_solve(input:list):\n",
    "    N = len(input)\n",
    "    queue = []\n",
    "    ## tracking the best value in the tree\n",
    "    best_value = float('inf')\n",
    "    \n",
    "    best_config = None\n",
    "    ##\n",
    "    ##initialize the root of the tree.\n",
    "    root_matrix = [[None for i in range(N)] for i in range(N)]\n",
    "    for i in range(N):\n",
    "        root_matrix[i][i] = 0\n",
    "    root_dis = 0\n",
    "    week = 0\n",
    "    root_tracking_pos = [i for i in range(N)]\n",
    "    root = Node(root_matrix,root_dis,week,root_tracking_pos)\n",
    "    queue.append(root)\n",
    "    while queue:\n",
    "        temp = queue.pop()\n",
    "        assert isinstance(temp, Node)\n",
    "\n",
    "        current_week = temp.week\n",
    "        if current_week == 2*N - 2:\n",
    "            if temp.dis < best_value:\n",
    "                best_config = temp.matrix\n",
    "                best_value = temp.dis\n",
    "                print(f\"Found better configuration, the new best value is : {best_value}\")\n",
    "                print(f\"The new best config is {best_config}\")\n",
    "                print()\n",
    "\n",
    "        else:\n",
    "            next_week = current_week + 1\n",
    "            list_of_nodes = get_sub_node(input,temp)\n",
    "            for item in list_of_nodes:\n",
    "                sub_matrix,sub_pos,sub_dis = item\n",
    "                if sub_dis < best_value:\n",
    "                    sub_Node = Node(sub_matrix,sub_dis,next_week,sub_pos)\n",
    "                    queue.append(sub_Node)\n",
    "\n",
    "# distance_matrix = [[random.randint(0,10) for i in range(4)] for i in range(4)]\n",
    "# for i in range(4):\n",
    "#     distance_matrix[i][i] = 0\n",
    "#     for j in range(4):\n",
    "#         distance_matrix[j][i] = distance_matrix[i][j]\n",
    "\n",
    "distance_matrix = [[0, 2, 3, 10], [2, 0, 3, 6], [3, 3, 0, 9], [10, 6, 9, 0]]\n",
    "\n",
    "print(distance_matrix)\n",
    "print()\n",
    "backtrack_solve(input=distance_matrix)\n"
   ]
  },
  {
   "attachments": {},
   "cell_type": "markdown",
   "metadata": {},
   "source": [
    "# Greedy algorithm\n"
   ]
  },
  {
   "cell_type": "code",
   "execution_count": 85,
   "metadata": {},
   "outputs": [
    {
     "name": "stdout",
     "output_type": "stream",
     "text": [
      "The reasonable cost when using Greedy Search is 77\n"
     ]
    }
   ],
   "source": [
    "### Greedy Search ###\n",
    "def greedy_solve(input:list):\n",
    "    N = len(input)\n",
    "    queue = []\n",
    "    ##initialize the root of the tree.\n",
    "    root_matrix = [[None for i in range(N)] for i in range(N)]\n",
    "    for i in range(N):\n",
    "        root_matrix[i][i] = 0\n",
    "    root_dis = 0\n",
    "    week = 0\n",
    "    root_tracking_pos = [i for i in range(N)]\n",
    "    root = Node(root_matrix,root_dis,week,root_tracking_pos)\n",
    "    queue.append(root)\n",
    "    while queue:\n",
    "        temp = queue.pop()\n",
    "        assert isinstance(temp, Node)\n",
    "\n",
    "        current_week = temp.week\n",
    "        if current_week == 2*N - 2:\n",
    "            return (temp.matrix,temp.dis)\n",
    "        else:\n",
    "            next_week = current_week + 1\n",
    "            list_of_nodes = get_sub_node(input,temp)\n",
    "            #node: sub_matrix,sub_pos,sub_dis\n",
    "            new_list = sorted(list_of_nodes,key=lambda x:x[2])\n",
    "            sub_matrix,sub_pos,sub_dis = list_of_nodes[0]\n",
    "            new_node = Node(sub_matrix,sub_dis,next_week,sub_pos)\n",
    "            queue.append(new_node)\n",
    "\n",
    "mat,cost = greedy_solve(distance_matrix)\n",
    "print(f'The reasonable cost when using Greedy Search is {cost}')\n"
   ]
  },
  {
   "attachments": {},
   "cell_type": "markdown",
   "metadata": {},
   "source": [
    "# BeamSearch algorithm"
   ]
  },
  {
   "cell_type": "code",
   "execution_count": 86,
   "metadata": {},
   "outputs": [
    {
     "name": "stdout",
     "output_type": "stream",
     "text": [
      "The reasonable cost when using Beam Sear is 79\n"
     ]
    }
   ],
   "source": [
    "def beam_solve(input,k):\n",
    "    N = len(input)\n",
    "    queue = []\n",
    "    ## tracking the best value in the tree\n",
    "    c_min = find_min(input)\n",
    "\n",
    "    ##\n",
    "    ##initialize the root of the tree.\n",
    "    root_matrix = [[None for i in range(N)] for i in range(N)]\n",
    "    for i in range(N):\n",
    "        root_matrix[i][i] = 0\n",
    "    root_dis = 0\n",
    "    week = 0\n",
    "    root_tracking_pos = [i for i in range(N)]\n",
    "    root = Node(root_matrix,root_dis,week,root_tracking_pos)\n",
    "    queue.append(root)\n",
    "    best = None\n",
    "    \n",
    "    while True:\n",
    "        nodes = copy.deepcopy(queue) \n",
    "        queue = []\n",
    "        if nodes[0].week == 2*N - 2:\n",
    "            for node in nodes:\n",
    "                if best == None:\n",
    "                    best = node.matrix,node.dis\n",
    "                else:\n",
    "                    if node.dis < best[1]:\n",
    "                        best = node.matrix,node.dis\n",
    "            break\n",
    "        else:\n",
    "            next_week = nodes[0].week + 1\n",
    "            for node in nodes:\n",
    "                lis = get_sub_node(input,node)\n",
    "                sub_nodes = [Node(sub_matrix,sub_dis,next_week,sub_pos) for \\\n",
    "                    (sub_matrix,sub_pos,sub_dis) in lis]\n",
    "                queue += sub_nodes\n",
    "            queue = sorted(queue,key=lambda x: x.dis)[:k]\n",
    "\n",
    "    return best\n",
    "\n",
    "# distance_matrix = [[random.randint(0,10) for i in range(8)] for i in range(8)]\n",
    "# for i in range(8):\n",
    "#     distance_matrix[i][i] = 0\n",
    "#     for j in range(8):\n",
    "#         distance_matrix[j][i] = distance_matrix[i][j]\n",
    "\n",
    "config,val = beam_solve(distance_matrix,10) \n",
    "print(f'The reasonable cost when using Beam Sear is {val}')"
   ]
  },
  {
   "attachments": {},
   "cell_type": "markdown",
   "metadata": {},
   "source": [
    "# Local Search"
   ]
  },
  {
   "cell_type": "code",
   "execution_count": 87,
   "metadata": {},
   "outputs": [],
   "source": [
    "import traceback\n",
    "import random\n",
    "import numpy \n",
    "\n",
    "def generate(N):\n",
    "\n",
    "    mat_0 = list()\n",
    "    for i in range(N):\n",
    "        row = [None]*N\n",
    "        row[i] = 0\n",
    "        mat_0.append(row)\n",
    "\n",
    "    all_coors_0 = list((a,b) for a in range(0,N) for b in range(0,N))\n",
    "    for i in range(N):\n",
    "        all_coors_0.remove((i,i))\n",
    "\n",
    "    n_choices_0 = dict()\n",
    "    choices_0 = dict()\n",
    "    for i in range(1,N+1):\n",
    "        n_choices_0[i] = N-1\n",
    "        choices_0[i] = [a for a in range(1,N+1) if a != i]\n",
    "    \n",
    "    univ_tab = dict()\n",
    "\n",
    "    univ_tab[0] = [copy.deepcopy(n_choices_0), copy.deepcopy(choices_0), copy.deepcopy(all_coors_0), copy.deepcopy(mat_0)]\n",
    "\n",
    "    global result\n",
    "    result = []\n",
    "\n",
    "    def construct_mat(n):\n",
    "        global result\n",
    "        if n == 2*N - 2:\n",
    "            result = univ_tab[n][3]\n",
    "        else:\n",
    "            nextweek = construct_week(n+1)\n",
    "            if nextweek == False:\n",
    "                construct_mat(n)\n",
    "            elif nextweek == 'Reset':\n",
    "                construct_mat(n-1)\n",
    "            else:\n",
    "                univ_tab[n+1] = copy.deepcopy(nextweek)\n",
    "                construct_mat(n+1)\n",
    "\n",
    "    # functions for contructing week \n",
    "\n",
    "    def create_priority_queue(n_choices_f):\n",
    "        L = list()\n",
    "        for a,b in n_choices_f.items():\n",
    "            L.append((b,a))\n",
    "\n",
    "        L.sort()\n",
    "\n",
    "        Q = list()\n",
    "        for item in L:\n",
    "            Q.append(item[1])\n",
    "        return Q\n",
    "\n",
    "    def check_choices(choices_copy):\n",
    "        L = list()\n",
    "        for key in choices_copy.keys():\n",
    "            if len(choices_copy[key]) == 0:\n",
    "                L.append(key)\n",
    "        for key in L:\n",
    "            choices_copy.pop(key)\n",
    "\n",
    "    def create_n_choices(choices):\n",
    "        n_choices_f = dict()\n",
    "        for key in choices.keys():\n",
    "            n_choices_f[key] = len(choices[key])\n",
    "        \n",
    "        return n_choices_f\n",
    "        \n",
    "    def choose_match(a: int, n_choices: dict, choices: dict, choices_copy: dict, all_coors: list, rest: list, queue: list, mat: list, week: int, p_queue: list, b = None):\n",
    "        \n",
    "        if b == None:\n",
    "            b = random.choice(choices_copy[a])\n",
    "\n",
    "        rest.remove(a)\n",
    "        rest.remove(b)\n",
    "        queue.remove(a)\n",
    "        queue.remove(b)\n",
    "        p_queue = copy.deepcopy(queue)\n",
    "\n",
    "        for key in choices_copy.keys():\n",
    "            if a in choices_copy[key]:\n",
    "                choices_copy[key].remove(a)\n",
    "            if b in choices_copy[key]:\n",
    "                choices_copy[key].remove(b)\n",
    "        choices_copy.pop(a)\n",
    "        choices_copy.pop(b)\n",
    "\n",
    "        RC = []\n",
    "        if (a-1,b-1) in all_coors:\n",
    "            RC.append((a,b))\n",
    "        if (b-1,a-1) in all_coors:\n",
    "            RC.append((b,a))\n",
    "        \n",
    "        (c,d) = random.choice(RC)\n",
    "\n",
    "        all_coors.remove((c-1,d-1))\n",
    "\n",
    "        if len(RC) == 1:\n",
    "            n_choices[a] -= 1\n",
    "            n_choices[b] -= 1\n",
    "            choices[a].remove(b)\n",
    "            choices[b].remove(a)\n",
    "\n",
    "        mat[c-1][d-1] = week\n",
    "        \n",
    "    # constructing week\n",
    "\n",
    "    def construct_week(m):\n",
    "\n",
    "        univ = copy.deepcopy(univ_tab[m-1])\n",
    "        # n_choices = univ[0]\n",
    "        # choices = univ[1]\n",
    "        # all_coors = univ[2]\n",
    "        # mat = univ[3]\n",
    "        \n",
    "        choices_copy = copy.deepcopy(univ[1])\n",
    "\n",
    "        queue = create_priority_queue(univ[0])\n",
    "\n",
    "        p_queue = queue[:]\n",
    "        rest = [i for i in range(1,N+1)]\n",
    "\n",
    "        while len(p_queue) >=1:\n",
    "\n",
    "            if len(rest) <= 2:\n",
    "                if len(rest) == 1:\n",
    "                    return False\n",
    "                else:\n",
    "                    if rest[1] not in univ[1][rest[0]]:\n",
    "                        return False\n",
    "                    else:\n",
    "                        check_choices(choices_copy)\n",
    "                        choose_match(rest[1], univ[0], univ[1], choices_copy, univ[2], rest, queue, univ[3], m, p_queue, rest[0])\n",
    "                        return univ\n",
    "            else:\n",
    "                check_choices(choices_copy)\n",
    "                queue = create_priority_queue(create_n_choices(choices_copy))\n",
    "                p_queue = queue[:]\n",
    "\n",
    "                i = p_queue[0]\n",
    "\n",
    "                # print('Week', end ='')\n",
    "                # print(m)\n",
    "\n",
    "                choose_match(i, univ[0], univ[1], choices_copy, univ[2], rest, queue, univ[3], m, p_queue)\n",
    "\n",
    "                if len(choices_copy.keys()) % 2 != 0:\n",
    "                    return 'Reset'\n",
    "\n",
    "    try:\n",
    "        construct_mat(0)\n",
    "    except Exception:\n",
    "\n",
    "        construct_mat(0)\n",
    "\n",
    "    return result\n",
    "\n",
    "\n",
    "def get_neighbors(initialize): #initialize: mat,cost\n",
    "    '''return list of (mat,cost)'''\n",
    "    mat,cost = initialize\n",
    "    M = copy.deepcopy(mat)\n",
    "    N = len(M)\n",
    "    \n",
    "    all_neighbors = list()\n",
    "\n",
    "    def team_cost(team,matrix,d_matrix):\n",
    "        away = list(zip(list(matrix[team][i] for i in range(0,N)),range(1,N+1)))\n",
    "        home = list(zip(list(matrix[i][team] for i in range(0,N)),list(team + 1 for j in range(0,N))))\n",
    "        home.sort()\n",
    "        home.pop(0)\n",
    "        team_schedule = away + home\n",
    "        team_schedule.sort()\n",
    "        C = 0\n",
    "        for i in range(len(team_schedule)-1):\n",
    "            C += d_matrix[team_schedule[i][1] - 1][team_schedule[i+1][1] - 1]\n",
    "        return C\n",
    "        \n",
    "    def match_swap(coor):\n",
    "        Y = copy.deepcopy(mat)\n",
    "        temp = Y[coor[0]][coor[1]]\n",
    "        Y[coor[0]][coor[1]] = Y[coor[1]][coor[0]]\n",
    "        Y[coor[1]][coor[0]] = temp\n",
    "\n",
    "        A = team_cost(coor[0],mat,distance_matrix) + team_cost(coor[1],mat,distance_matrix) \n",
    "        B = team_cost(coor[0],Y,distance_matrix) + team_cost(coor[1],Y,distance_matrix)\n",
    "        cost_Y = cost - A + B\n",
    "        return (Y, cost_Y)\n",
    "\n",
    "    def team_swap(teams):\n",
    "        a,b = teams\n",
    "        a -= 1\n",
    "        b -= 1\n",
    "        Y = copy.deepcopy(mat)\n",
    "        Y_1 = numpy.array(copy.deepcopy(Y))\n",
    "        \n",
    "        def replace_in_mat(x,y,S):\n",
    "            temp = S[x].copy()\n",
    "            S[x] = S[y].copy()\n",
    "            S[y] = temp.copy()\n",
    "\n",
    "            S[x][y] = S[x][x]\n",
    "            S[x][x] = 0\n",
    "\n",
    "            S[y][x] = S[y][y]\n",
    "            S[y][y] = 0\n",
    "\n",
    "        replace_in_mat(a,b,Y_1)\n",
    "        Y_1 = Y_1.T.copy()\n",
    "        \n",
    "        replace_in_mat(a,b,Y_1)\n",
    "        Y_1 = Y_1.T.copy()\n",
    "\n",
    "        Y = copy.deepcopy(Y_1.tolist())\n",
    "        return (Y, compute_cost(distance_matrix, Y))\n",
    "    \n",
    "    iterate = list((j,i) for i in range(0,N) for j in range(0,i))\n",
    "\n",
    "    for coor in iterate:\n",
    "        mat_1, cost_1 = copy.deepcopy(match_swap(coor))\n",
    "        all_neighbors.append((mat_1, cost_1))\n",
    "\n",
    "\n",
    "    iterate = list((i,j) for i in range(1,N + 1) for j in range(i, N + 1))\n",
    "\n",
    "    for coor in iterate:\n",
    "        mat_1, cost_1 = copy.deepcopy(team_swap(coor))\n",
    "        all_neighbors.append((mat_1, cost_1))\n",
    "    \n",
    "    return all_neighbors\n",
    "\n",
    "\n",
    "def compute_cost(distance_matrix,matrix):\n",
    "    '''compute cost of a solution'''\n",
    "    num_of_teams = len(matrix)\n",
    "    cost = 0\n",
    "    for team in range(num_of_teams):\n",
    "        current_pos = team\n",
    "        team_dis = 0\n",
    "        current_week = 0\n",
    "        while current_week < 2*num_of_teams - 2:\n",
    "            current_week = current_week + 1\n",
    "            flag = True\n",
    "            for index in range(num_of_teams):\n",
    "                if matrix[team][index] == current_week:\n",
    "                    old_pos = current_pos\n",
    "                    current_pos = index\n",
    "                    team_dis += distance_matrix[old_pos][current_pos]\n",
    "                    flag = False\n",
    "                    break\n",
    "            if flag: # da san nha\n",
    "                old_pos = current_pos\n",
    "                current_pos = team\n",
    "                team_dis += distance_matrix[old_pos][current_pos]\n",
    "\n",
    "        cost += team_dis\n",
    "        \n",
    "    return cost\n",
    "    \n"
   ]
  },
  {
   "cell_type": "code",
   "execution_count": 88,
   "metadata": {},
   "outputs": [
    {
     "name": "stdout",
     "output_type": "stream",
     "text": [
      "The reasonable cost when using Local Search is 105\n"
     ]
    }
   ],
   "source": [
    "def local_solve(input):\n",
    "    # random inial\n",
    "    #input: distance matrix\n",
    "    #return the schedule: matrix , cost\n",
    "    N = len(input)\n",
    "    random_matrix = generate(N)\n",
    "    cost = compute_cost(input,random_matrix)\n",
    "    initialize = random_matrix,cost\n",
    "    flag = False\n",
    "    while flag:\n",
    "        neighbors = get_neighbors(initialize)\n",
    "        for neighbor in neighbors:\n",
    "            #neighbor: matrix:schedule,cost\n",
    "            schedule,cost = neighbor\n",
    "            flag = False\n",
    "            if cost < initialize[1]:\n",
    "                initialize = neighbor\n",
    "                flag = True\n",
    "    return initialize[0],initialize[1]\n",
    "config , val = local_solve(distance_matrix)\n",
    "print(f'The reasonable cost when using Local Search is {val}')\n"
   ]
  },
  {
   "attachments": {},
   "cell_type": "markdown",
   "metadata": {},
   "source": [
    "# Meta heuristic algorithm"
   ]
  },
  {
   "cell_type": "markdown",
   "metadata": {},
   "source": [
    "### iterative local search"
   ]
  },
  {
   "cell_type": "code",
   "execution_count": 89,
   "metadata": {},
   "outputs": [
    {
     "name": "stdout",
     "output_type": "stream",
     "text": [
      "The reasonable cost when using Iterative Local Search is 73\n"
     ]
    }
   ],
   "source": [
    "def iterative_local_solve(input,K):\n",
    "    best_config = None\n",
    "    best_cost = float('inf')\n",
    "    for i in range(K):\n",
    "        matrix,cost = local_solve(input)\n",
    "        if cost < best_cost:\n",
    "            best_cost = cost\n",
    "            best_config = matrix\n",
    "\n",
    "    return best_config,best_cost\n",
    "mat,cost = iterative_local_solve(distance_matrix,K=100)\n",
    "print(f'The reasonable cost when using Iterative Local Search is {cost}')"
   ]
  },
  {
   "attachments": {},
   "cell_type": "markdown",
   "metadata": {},
   "source": [
    "### gibb sampling: but this method is not efficent yet"
   ]
  },
  {
   "cell_type": "code",
   "execution_count": 90,
   "metadata": {},
   "outputs": [],
   "source": [
    "def gibb_sampling(input,K,factor):\n",
    "    best_config = None\n",
    "    best_cost = float('inf')\n",
    "    #initialize start position\n",
    "    mat = generate(len(input))\n",
    "    current_postion = (mat,compute_cost(distance_matrix,mat))\n",
    "    #\n",
    "    \n",
    "    for i in range(K):\n",
    "        #choosing a random number:\n",
    "        num = random.random()\n",
    "\n",
    "        list_of_neighs = get_neighbors(current_postion) #mat,cost\n",
    "        sum_of_cost = sum(factor**x[1] for x in list_of_neighs)\n",
    "        accumulate = 0\n",
    "        for i in range(len(list_of_neighs)):\n",
    "            mat,cost = list_of_neighs[i]\n",
    "            accumulate += factor ** cost\n",
    "            port = accumulate / sum_of_cost\n",
    "            if port > num:\n",
    "                current_postion = list_of_neighs[i-1]\n",
    "                break\n",
    "    return current_postion\n"
   ]
  },
  {
   "cell_type": "code",
   "execution_count": 91,
   "metadata": {},
   "outputs": [
    {
     "name": "stdout",
     "output_type": "stream",
     "text": [
      "The reasonable cost when using Gibb_sampling is 105\n"
     ]
    }
   ],
   "source": [
    "mat,cost = gibb_sampling(distance_matrix,1000,10)\n",
    "print(f'The reasonable cost when using Gibb_sampling is {cost}')"
   ]
  },
  {
   "attachments": {},
   "cell_type": "markdown",
   "metadata": {},
   "source": [
    "# Compare the performance of each algorithm.\n"
   ]
  },
  {
   "cell_type": "code",
   "execution_count": 111,
   "metadata": {},
   "outputs": [],
   "source": [
    "n = int(input())\n",
    "distance_matrix = [[random.randint(0,10) for i in range(n)] for i in range(n)]\n",
    "for i in range(n):\n",
    "    distance_matrix[i][i] = 0\n",
    "    for j in range(n):\n",
    "        distance_matrix[j][i] = distance_matrix[i][j]\n",
    "    "
   ]
  },
  {
   "cell_type": "code",
   "execution_count": 112,
   "metadata": {},
   "outputs": [
    {
     "data": {
      "text/plain": [
       "18"
      ]
     },
     "execution_count": 112,
     "metadata": {},
     "output_type": "execute_result"
    }
   ],
   "source": [
    "n"
   ]
  },
  {
   "cell_type": "code",
   "execution_count": 113,
   "metadata": {},
   "outputs": [
    {
     "name": "stdout",
     "output_type": "stream",
     "text": [
      "([[0, 19, 21, 20, 26, 3, 11, 33, 18, 13, 5, 31, 14, 7, 25, 24, 6, 9], [23, 0, 13, 29, 31, 32, 18, 6, 7, 3, 11, 24, 20, 30, 15, 2, 14, 1], [4, 25, 0, 14, 27, 11, 32, 23, 22, 31, 8, 33, 17, 20, 6, 5, 15, 34], [32, 34, 1, 0, 7, 28, 31, 21, 9, 19, 13, 30, 23, 5, 16, 33, 22, 12], [28, 10, 18, 17, 0, 21, 25, 4, 19, 8, 15, 1, 24, 32, 13, 20, 29, 5], [30, 33, 10, 8, 23, 0, 34, 31, 6, 16, 18, 2, 4, 13, 12, 29, 17, 27], [16, 22, 26, 24, 9, 15, 0, 17, 30, 12, 29, 4, 2, 14, 5, 27, 10, 8], [29, 8, 16, 26, 22, 9, 19, 0, 1, 25, 24, 10, 7, 3, 20, 15, 12, 30], [8, 26, 24, 25, 2, 5, 28, 11, 0, 33, 31, 23, 3, 12, 14, 17, 4, 15], [2, 5, 30, 18, 14, 22, 20, 27, 29, 0, 6, 15, 26, 11, 28, 1, 32, 7], [1, 21, 2, 3, 12, 19, 33, 14, 32, 10, 0, 20, 16, 17, 27, 9, 7, 23], [12, 16, 7, 27, 6, 26, 3, 34, 21, 17, 28, 0, 13, 25, 29, 18, 8, 14], [22, 28, 12, 15, 11, 1, 6, 5, 27, 21, 34, 9, 0, 8, 10, 25, 30, 32], [15, 27, 29, 6, 34, 24, 23, 2, 10, 9, 4, 19, 18, 0, 21, 22, 1, 31], [17, 4, 9, 2, 3, 7, 1, 32, 34, 23, 30, 22, 31, 33, 0, 8, 19, 26], [34, 12, 3, 10, 30, 14, 7, 13, 16, 4, 26, 32, 19, 28, 11, 0, 23, 21], [27, 9, 28, 11, 16, 20, 21, 18, 13, 34, 25, 5, 33, 26, 24, 31, 0, 3], [10, 17, 19, 4, 33, 25, 13, 28, 20, 24, 22, 11, 29, 16, 18, 6, 2, 0]], 2291)\n",
      "([[0, 30, 1, 20, 32, 12, 2, 26, 18, 13, 31, 4, 5, 16, 15, 6, 21, 28], [23, 0, 17, 15, 28, 22, 19, 1, 13, 11, 5, 2, 9, 14, 32, 34, 12, 29], [7, 18, 0, 6, 25, 2, 31, 10, 20, 24, 8, 21, 30, 5, 14, 33, 13, 11], [25, 26, 16, 0, 34, 4, 33, 31, 7, 29, 14, 8, 28, 18, 2, 12, 24, 5], [3, 31, 23, 11, 0, 30, 27, 17, 5, 21, 10, 29, 18, 4, 6, 1, 16, 2], [24, 20, 3, 9, 33, 0, 1, 15, 14, 32, 16, 13, 6, 7, 8, 31, 11, 23], [14, 16, 32, 13, 24, 26, 0, 23, 9, 18, 30, 20, 15, 11, 7, 5, 29, 12], [11, 33, 12, 27, 19, 5, 6, 0, 4, 14, 13, 24, 7, 8, 29, 30, 34, 18], [29, 21, 27, 3, 15, 10, 8, 22, 0, 2, 24, 23, 31, 34, 16, 17, 28, 1], [19, 3, 34, 30, 9, 25, 28, 20, 12, 0, 6, 1, 33, 17, 5, 4, 10, 16], [9, 7, 29, 17, 22, 21, 34, 28, 26, 23, 0, 19, 1, 32, 11, 15, 27, 20], [33, 6, 15, 10, 26, 17, 22, 25, 11, 7, 18, 0, 34, 30, 31, 9, 5, 3], [8, 25, 22, 21, 12, 19, 17, 16, 32, 26, 4, 27, 0, 29, 10, 2, 3, 14], [27, 10, 9, 23, 20, 28, 3, 2, 33, 15, 25, 12, 24, 0, 22, 26, 1, 6], [17, 24, 19, 1, 13, 34, 4, 3, 25, 27, 12, 28, 20, 21, 0, 23, 33, 26], [10, 27, 28, 22, 14, 29, 21, 32, 19, 8, 3, 16, 11, 13, 18, 0, 20, 25], [22, 4, 26, 32, 8, 18, 25, 9, 6, 31, 2, 14, 23, 19, 30, 7, 0, 15], [34, 8, 4, 19, 7, 27, 10, 21, 30, 22, 33, 32, 13, 31, 9, 24, 17, 0]], 2024)\n",
      "([[0, 21, 16, 7, 13, 28, 3, 27, 15, 1, 4, 30, 23, 14, 6, 26, 34, 22], [2, 0, 22, 1, 23, 15, 19, 5, 25, 3, 9, 17, 29, 13, 18, 16, 10, 32], [29, 6, 0, 17, 26, 19, 28, 7, 18, 13, 27, 20, 25, 24, 4, 8, 14, 2], [8, 4, 11, 0, 10, 21, 13, 6, 5, 29, 14, 27, 16, 3, 20, 25, 19, 26], [18, 30, 34, 31, 0, 4, 1, 25, 6, 33, 15, 32, 3, 5, 9, 14, 28, 27], [25, 20, 9, 22, 16, 0, 26, 23, 29, 18, 34, 33, 14, 10, 27, 6, 1, 5], [5, 8, 23, 30, 2, 12, 0, 33, 22, 6, 7, 18, 31, 21, 15, 24, 17, 11], [11, 31, 10, 9, 20, 3, 32, 0, 2, 12, 1, 13, 15, 19, 16, 22, 26, 14], [9, 7, 3, 12, 11, 30, 20, 8, 0, 23, 26, 31, 4, 34, 10, 32, 27, 19], [24, 34, 21, 32, 17, 7, 10, 30, 14, 0, 19, 16, 9, 26, 5, 11, 25, 20], [20, 24, 30, 33, 22, 32, 25, 17, 16, 31, 0, 5, 18, 2, 11, 29, 13, 21], [19, 14, 15, 24, 29, 2, 9, 28, 21, 4, 23, 0, 8, 11, 26, 10, 6, 3], [32, 26, 12, 28, 19, 11, 34, 24, 13, 27, 10, 22, 0, 33, 7, 2, 21, 1], [12, 27, 1, 23, 7, 8, 29, 4, 28, 22, 6, 25, 17, 0, 31, 30, 20, 16], [17, 28, 33, 2, 12, 24, 14, 21, 1, 8, 3, 34, 30, 32, 0, 19, 23, 29], [31, 12, 5, 34, 21, 17, 27, 18, 33, 15, 28, 1, 20, 9, 13, 0, 3, 7], [33, 11, 32, 15, 8, 31, 16, 29, 24, 2, 12, 7, 5, 18, 22, 4, 0, 9], [10, 33, 31, 18, 24, 13, 4, 34, 17, 28, 8, 12, 6, 15, 25, 23, 30, 0]], 2140)\n"
     ]
    }
   ],
   "source": [
    "# print(greedy_solve(distance_matrix))\n",
    "# print(beam_solve(distance_matrix,k=10))\n",
    "print(local_solve(distance_matrix))\n",
    "print(iterative_local_solve(distance_matrix,K=30))\n",
    "print(gibb_sampling(distance_matrix,K=50,factor=1000))"
   ]
  },
  {
   "attachments": {},
   "cell_type": "markdown",
   "metadata": {},
   "source": [
    "### these two algorithms are not fast because of the complexity of get_sub_node() func"
   ]
  },
  {
   "cell_type": "code",
   "execution_count": 110,
   "metadata": {},
   "outputs": [
    {
     "name": "stdout",
     "output_type": "stream",
     "text": [
      "([[0, 8, 9, 10, 11, 12, 13, 14], [1, 0, 10, 9, 12, 11, 14, 13], [2, 3, 0, 8, 13, 14, 11, 12], [3, 2, 1, 0, 14, 13, 12, 11], [4, 5, 6, 7, 0, 8, 9, 10], [5, 4, 7, 6, 1, 0, 10, 9], [6, 7, 4, 5, 2, 3, 0, 8], [7, 6, 5, 4, 3, 2, 1, 0]], 314)\n",
      "([[0, 5, 14, 11, 4, 13, 2, 12], [10, 0, 8, 14, 6, 12, 9, 11], [6, 2, 0, 7, 1, 4, 5, 3], [3, 1, 13, 0, 2, 5, 4, 6], [7, 3, 9, 12, 0, 14, 8, 13], [9, 7, 11, 8, 10, 0, 6, 2], [1, 13, 12, 10, 11, 3, 0, 14], [8, 4, 10, 9, 5, 1, 7, 0]], 201)\n"
     ]
    }
   ],
   "source": [
    "print(greedy_solve(distance_matrix))\n",
    "print(beam_solve(distance_matrix,k=10))"
   ]
  },
  {
   "cell_type": "code",
   "execution_count": null,
   "metadata": {},
   "outputs": [],
   "source": []
  }
 ],
 "metadata": {
  "kernelspec": {
   "display_name": "Python 3.9.13 ('base')",
   "language": "python",
   "name": "python3"
  },
  "language_info": {
   "codemirror_mode": {
    "name": "ipython",
    "version": 3
   },
   "file_extension": ".py",
   "mimetype": "text/x-python",
   "name": "python",
   "nbconvert_exporter": "python",
   "pygments_lexer": "ipython3",
   "version": "3.9.13"
  },
  "orig_nbformat": 4,
  "vscode": {
   "interpreter": {
    "hash": "40d3a090f54c6569ab1632332b64b2c03c39dcf918b08424e98f38b5ae0af88f"
   }
  }
 },
 "nbformat": 4,
 "nbformat_minor": 2
}
