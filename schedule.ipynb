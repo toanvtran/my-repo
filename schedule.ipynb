{
  "cells": [
    {
      "cell_type": "markdown",
      "metadata": {
        "id": "7EbWTMXhQ0gF"
      },
      "source": [
        "## Preferred to be run on **[colab.research.google.com](https://colab.research.google.com)**"
      ]
    },
    {
      "cell_type": "markdown",
      "metadata": {
        "id": "pToCVjlMbBSA"
      },
      "source": [
        "# row: away , column : home"
      ]
    },
    {
      "cell_type": "markdown",
      "metadata": {
        "id": "JhxVaK9xWEj5"
      },
      "source": [
        "### Randomize or predefine the `distance_matrix`"
      ]
    },
    {
      "cell_type": "code",
      "execution_count": 2,
      "metadata": {
        "colab": {
          "base_uri": "https://localhost:8080/"
        },
        "id": "HY4TG-o9r-nW",
        "outputId": "424af5b3-ffb6-4581-fbb8-dcf5db85e18a"
      },
      "outputs": [
        {
          "output_type": "stream",
          "name": "stdout",
          "text": [
            "4\n",
            "[[0, 2, 3, 10], [2, 0, 3, 6], [3, 3, 0, 9], [10, 6, 9, 0]]\n"
          ]
        }
      ],
      "source": [
        "import random\n",
        "n = int(input())\n",
        "distance_matrix = [[random.randint(0,20) for i in range(n)] for i in range(n)]\n",
        "for i in range(n):\n",
        "    distance_matrix[i][i] = 0\n",
        "    for j in range(n):\n",
        "        distance_matrix[j][i] = distance_matrix[i][j]\n",
        "\n",
        "# distance_matrix = [[0, 12, 8, 5, 5, 9], [12, 0, 9, 19, 4, 10], [8, 9, 0, 10, 15, 1], [5, 19, 10, 0, 18, 5], [5, 4, 15, 18, 0, 8], [9, 10, 1, 5, 8, 0]]\n",
        "distance_matrix = [[0, 2, 3, 10], [2, 0, 3, 6], [3, 3, 0, 9], [10, 6, 9, 0]]\n",
        "\n",
        "print(distance_matrix)"
      ]
    },
    {
      "cell_type": "markdown",
      "metadata": {
        "id": "VkcDM-yZbBSC"
      },
      "source": [
        "# Backtrack algorithm\n"
      ]
    },
    {
      "cell_type": "code",
      "execution_count": 5,
      "metadata": {
        "id": "emuoK4kibBSD"
      },
      "outputs": [],
      "source": [
        "def find_min(matrix:list):\n",
        "    ans = float('inf')\n",
        "    for row in matrix:\n",
        "        for entry in row:\n",
        "            if entry != 0 and entry < ans:\n",
        "                ans = entry\n",
        "    return ans"
      ]
    },
    {
      "cell_type": "code",
      "execution_count": 3,
      "metadata": {
        "colab": {
          "base_uri": "https://localhost:8080/"
        },
        "id": "9abJUXDYbBSD",
        "outputId": "9e6a0edc-57d7-4845-f9d1-65c516dab30a"
      },
      "outputs": [
        {
          "output_type": "stream",
          "name": "stdout",
          "text": [
            "[[0, 2, 3, 10], [2, 0, 3, 6], [3, 3, 0, 9], [10, 6, 9, 0]]\n",
            "\n",
            "Found better configuration, the new best value is : 79\n",
            "The new best config is [[0, 3, 2, 1], [6, 0, 1, 2], [5, 4, 0, 3], [4, 5, 6, 0]]\n",
            "\n",
            "Found better configuration, the new best value is : 75\n",
            "The new best config is [[0, 3, 1, 2], [6, 0, 2, 1], [5, 4, 0, 3], [4, 5, 6, 0]]\n",
            "\n",
            "Found better configuration, the new best value is : 71\n",
            "The new best config is [[0, 3, 1, 2], [6, 0, 5, 1], [4, 2, 0, 3], [5, 4, 6, 0]]\n",
            "\n"
          ]
        },
        {
          "output_type": "execute_result",
          "data": {
            "text/plain": [
              "([[0, 3, 1, 2], [6, 0, 5, 1], [4, 2, 0, 3], [5, 4, 6, 0]], 71)"
            ]
          },
          "metadata": {},
          "execution_count": 3
        }
      ],
      "source": [
        "import random\n",
        "import copy\n",
        "\n",
        "class Node():\n",
        "    def __init__(self,matrix:list,dis,week,tracking_pos) -> None:\n",
        "        self.matrix = matrix\n",
        "        self.dis = dis\n",
        "        self.week = week\n",
        "        self.tracking_pos = tracking_pos\n",
        "                        \n",
        "\n",
        "def get_sub_node(distance_matrix,node:Node):\n",
        "        \"\"\" returns the list contains all tuples: (matrix,pos,dis) \"\"\"\n",
        "        ans_matrix = []\n",
        "        final_ans = []\n",
        "\n",
        "        queue = [(node,0)]\n",
        "\n",
        "        current_week = node.week + 1\n",
        "        N = len(distance_matrix)\n",
        "        assert N%2 == 0, \"The number of teams must be even\"\n",
        "        \n",
        "        while queue:\n",
        "            temp,match = queue.pop()\n",
        "            matrix = temp.matrix\n",
        "            pos = temp.tracking_pos\n",
        "            dis = temp.dis\n",
        "            if match == N//2:\n",
        "                if temp.matrix not in ans_matrix:\n",
        "                    ans_matrix.append(temp.matrix)\n",
        "                    final_ans.append((temp.matrix,temp.tracking_pos,temp.dis))\n",
        "            else:\n",
        "                for i in range(N):\n",
        "                    if current_week not in matrix[i] and current_week not in [matrix[j][i] for\\\n",
        "                        j in range(N)]:\n",
        "                        for j in range(N):\n",
        "                            if i!=j and current_week not in matrix[j] and current_week not \\\n",
        "                                in [matrix[i][j] for i in range(N)]:\n",
        "                                if matrix[i][j] == None:\n",
        "                                    sub_matrix = copy.deepcopy(matrix)\n",
        "                                    sub_matrix[i][j] = current_week\n",
        "                                    sub_pos = copy.deepcopy(pos)\n",
        "                                    sub_pos[i],sub_pos[j] = j,j\n",
        "                                    sub_dis = dis + distance_matrix[pos[i]][j] + distance_matrix[pos[j]][j]\n",
        "                                    sub_Node = Node(sub_matrix,sub_dis,current_week,sub_pos)\n",
        "                                    queue.append((sub_Node,match+1))\n",
        "        return final_ans\n",
        "\n",
        "def backtrack_solve(input:list):\n",
        "    N = len(input)\n",
        "    queue = []\n",
        "    ## tracking the best value in the tree\n",
        "    best_value = float('inf')\n",
        "    \n",
        "    best_config = None\n",
        "    ##\n",
        "    ##initialize the root of the tree.\n",
        "    root_matrix = [[None for i in range(N)] for i in range(N)]\n",
        "    for i in range(N):\n",
        "        root_matrix[i][i] = 0\n",
        "    root_dis = 0\n",
        "    week = 0\n",
        "    root_tracking_pos = [i for i in range(N)]\n",
        "    root = Node(root_matrix,root_dis,week,root_tracking_pos)\n",
        "    queue.append(root)\n",
        "    while queue:\n",
        "        temp = queue.pop()\n",
        "        assert isinstance(temp, Node)\n",
        "\n",
        "        current_week = temp.week\n",
        "        if current_week == 2*N - 2:\n",
        "            if temp.dis < best_value:\n",
        "                best_config = temp.matrix\n",
        "                best_value = temp.dis\n",
        "                print(f\"Found better configuration, the new best value is : {best_value}\")\n",
        "                print(f\"The new best config is {best_config}\")\n",
        "                print()\n",
        "\n",
        "        else:\n",
        "            next_week = current_week + 1\n",
        "            list_of_nodes = get_sub_node(input,temp)\n",
        "            for item in list_of_nodes:\n",
        "                sub_matrix,sub_pos,sub_dis = item\n",
        "                if sub_dis < best_value:\n",
        "                    sub_Node = Node(sub_matrix,sub_dis,next_week,sub_pos)\n",
        "                    queue.append(sub_Node)\n",
        "\n",
        "    return best_config, best_value\n",
        "\n",
        "# distance_matrix = [[random.randint(0,10) for i in range(4)] for i in range(4)]\n",
        "# for i in range(4):\n",
        "#     distance_matrix[i][i] = 0\n",
        "#     for j in range(4):\n",
        "#         distance_matrix[j][i] = distance_matrix[i][j]\n",
        "\n",
        "print(distance_matrix)\n",
        "print()\n",
        "backtrack_solve(input=distance_matrix)\n"
      ]
    },
    {
      "cell_type": "markdown",
      "metadata": {
        "id": "5ODg6nRcbBSF"
      },
      "source": [
        "# BeamSearch algorithm"
      ]
    },
    {
      "cell_type": "code",
      "execution_count": 6,
      "metadata": {
        "colab": {
          "base_uri": "https://localhost:8080/"
        },
        "id": "sv_kziSZbBSF",
        "outputId": "1a16148f-15a6-4062-c93d-98657e6254e7"
      },
      "outputs": [
        {
          "output_type": "stream",
          "name": "stdout",
          "text": [
            "The reasonable cost when using Beam Search is 79\n"
          ]
        }
      ],
      "source": [
        "def beam_solve(input,k):\n",
        "    N = len(input)\n",
        "    queue = []\n",
        "    ## tracking the best value in the tree\n",
        "    c_min = find_min(input)\n",
        "\n",
        "    ##\n",
        "    ##initialize the root of the tree.\n",
        "    root_matrix = [[None for i in range(N)] for i in range(N)]\n",
        "    for i in range(N):\n",
        "        root_matrix[i][i] = 0\n",
        "    root_dis = 0\n",
        "    week = 0\n",
        "    root_tracking_pos = [i for i in range(N)]\n",
        "    root = Node(root_matrix,root_dis,week,root_tracking_pos)\n",
        "    queue.append(root)\n",
        "    best = None\n",
        "    \n",
        "    while True:\n",
        "        nodes = copy.deepcopy(queue) \n",
        "        queue = []\n",
        "        if nodes[0].week == 2*N - 2:\n",
        "            for node in nodes:\n",
        "                if best == None:\n",
        "                    best = node.matrix,node.dis\n",
        "                else:\n",
        "                    if node.dis < best[1]:\n",
        "                        best = node.matrix,node.dis\n",
        "            break\n",
        "        else:\n",
        "            next_week = nodes[0].week + 1\n",
        "            for node in nodes:\n",
        "                lis = get_sub_node(input,node)\n",
        "                sub_nodes = [Node(sub_matrix,sub_dis,next_week,sub_pos) for \\\n",
        "                    (sub_matrix,sub_pos,sub_dis) in lis]\n",
        "                queue += sub_nodes\n",
        "            queue = sorted(queue,key=lambda x: x.dis)[:k]\n",
        "\n",
        "    return best\n",
        "\n",
        "# distance_matrix = [[random.randint(0,10) for i in range(8)] for i in range(8)]\n",
        "# for i in range(8):\n",
        "#     distance_matrix[i][i] = 0\n",
        "#     for j in range(8):\n",
        "#         distance_matrix[j][i] = distance_matrix[i][j]\n",
        "\n",
        "config,val = beam_solve(distance_matrix, 10) \n",
        "print(f'The reasonable cost when using Beam Search is {val}')"
      ]
    },
    {
      "cell_type": "markdown",
      "metadata": {
        "id": "VRMOY2hKbBSF"
      },
      "source": [
        "# Local Search"
      ]
    },
    {
      "cell_type": "code",
      "execution_count": 7,
      "metadata": {
        "id": "7VIsFwQ4bBSG"
      },
      "outputs": [],
      "source": [
        "import traceback\n",
        "import random\n",
        "import numpy \n",
        "\n",
        "def generate(N):\n",
        "\n",
        "    mat_0 = list()\n",
        "    for i in range(N):\n",
        "        row = [None]*N\n",
        "        row[i] = 0\n",
        "        mat_0.append(row)\n",
        "\n",
        "    all_coors_0 = list((a,b) for a in range(0,N) for b in range(0,N))\n",
        "    for i in range(N):\n",
        "        all_coors_0.remove((i,i))\n",
        "\n",
        "    n_choices_0 = dict()\n",
        "    choices_0 = dict()\n",
        "    for i in range(1,N+1):\n",
        "        n_choices_0[i] = N-1\n",
        "        choices_0[i] = [a for a in range(1,N+1) if a != i]\n",
        "    \n",
        "    univ_tab = dict()\n",
        "\n",
        "    univ_tab[0] = [copy.deepcopy(n_choices_0), copy.deepcopy(choices_0), copy.deepcopy(all_coors_0), copy.deepcopy(mat_0)]\n",
        "\n",
        "    global result\n",
        "    result = []\n",
        "    \n",
        "    global S \n",
        "    S = False\n",
        "\n",
        "    def construct_mat(n):\n",
        "        global result\n",
        "        global S\n",
        "        if n == 2*N - 2:\n",
        "            S = True\n",
        "            result = univ_tab[n][3]\n",
        "        else:\n",
        "            nextweek = construct_week(n+1)\n",
        "            if nextweek == False:\n",
        "                construct_mat(n)\n",
        "            elif nextweek == 'Reset':\n",
        "                construct_mat(n-1)\n",
        "            else:\n",
        "                univ_tab[n+1] = copy.deepcopy(nextweek)\n",
        "                construct_mat(n+1)\n",
        "\n",
        "    # functions for contructing week \n",
        "\n",
        "    def create_priority_queue(n_choices_f):\n",
        "        L = list()\n",
        "        for a,b in n_choices_f.items():\n",
        "            L.append((b,a))\n",
        "\n",
        "        L.sort()\n",
        "\n",
        "        Q = list()\n",
        "        for item in L:\n",
        "            Q.append(item[1])\n",
        "        return Q\n",
        "\n",
        "    def check_choices(choices_copy):\n",
        "        L = list()\n",
        "        for key in choices_copy.keys():\n",
        "            if len(choices_copy[key]) == 0:\n",
        "                L.append(key)\n",
        "        for key in L:\n",
        "            choices_copy.pop(key)\n",
        "\n",
        "    def create_n_choices(choices):\n",
        "        n_choices_f = dict()\n",
        "        for key in choices.keys():\n",
        "            n_choices_f[key] = len(choices[key])\n",
        "        \n",
        "        return n_choices_f\n",
        "        \n",
        "    def choose_match(a: int, n_choices: dict, choices: dict, choices_copy: dict, all_coors: list, rest: list, queue: list, mat: list, week: int, p_queue: list, b = None):\n",
        "        \n",
        "        if b == None:\n",
        "            b = random.choice(choices_copy[a])\n",
        "\n",
        "        rest.remove(a)\n",
        "        rest.remove(b)\n",
        "        queue.remove(a)\n",
        "        queue.remove(b)\n",
        "        p_queue = copy.deepcopy(queue)\n",
        "\n",
        "        for key in choices_copy.keys():\n",
        "            if a in choices_copy[key]:\n",
        "                choices_copy[key].remove(a)\n",
        "            if b in choices_copy[key]:\n",
        "                choices_copy[key].remove(b)\n",
        "        choices_copy.pop(a)\n",
        "        choices_copy.pop(b)\n",
        "\n",
        "        RC = []\n",
        "        if (a-1,b-1) in all_coors:\n",
        "            RC.append((a,b))\n",
        "        if (b-1,a-1) in all_coors:\n",
        "            RC.append((b,a))\n",
        "        \n",
        "        (c,d) = random.choice(RC)\n",
        "\n",
        "        all_coors.remove((c-1,d-1))\n",
        "\n",
        "        if len(RC) == 1:\n",
        "            n_choices[a] -= 1\n",
        "            n_choices[b] -= 1\n",
        "            choices[a].remove(b)\n",
        "            choices[b].remove(a)\n",
        "\n",
        "        mat[c-1][d-1] = week\n",
        "        \n",
        "    # constructing week\n",
        "\n",
        "    def construct_week(m):\n",
        "\n",
        "        univ = copy.deepcopy(univ_tab[m-1])\n",
        "        # n_choices = univ[0]\n",
        "        # choices = univ[1]\n",
        "        # all_coors = univ[2]\n",
        "        # mat = univ[3]\n",
        "        \n",
        "        choices_copy = copy.deepcopy(univ[1])\n",
        "\n",
        "        queue = create_priority_queue(univ[0])\n",
        "\n",
        "        p_queue = queue[:]\n",
        "        rest = [i for i in range(1,N+1)]\n",
        "\n",
        "        while len(p_queue) >=1:\n",
        "\n",
        "            if len(rest) <= 2:\n",
        "                if len(rest) == 1:\n",
        "                    return False\n",
        "                else:\n",
        "                    if rest[1] not in univ[1][rest[0]]:\n",
        "                        return False\n",
        "                    else:\n",
        "                        check_choices(choices_copy)\n",
        "                        choose_match(rest[1], univ[0], univ[1], choices_copy, univ[2], rest, queue, univ[3], m, p_queue, rest[0])\n",
        "                        return univ\n",
        "            else:\n",
        "                check_choices(choices_copy)\n",
        "                queue = create_priority_queue(create_n_choices(choices_copy))\n",
        "                p_queue = queue[:]\n",
        "\n",
        "                i = p_queue[0]\n",
        "\n",
        "                choose_match(i, univ[0], univ[1], choices_copy, univ[2], rest, queue, univ[3], m, p_queue)\n",
        "\n",
        "                if len(choices_copy.keys()) % 2 != 0:\n",
        "                    return 'Reset'\n",
        "\n",
        "    def do_until_true():\n",
        "        global S\n",
        "        while S == False:\n",
        "            try:\n",
        "                construct_mat(0)\n",
        "            except Exception:\n",
        "                do_until_true()\n",
        "    \n",
        "    do_until_true()\n",
        "\n",
        "    return result\n",
        "\n",
        "\n",
        "def get_neighbors(initialize, d_mat): #initialize: mat,cost\n",
        "    '''return list of (mat,cost)'''\n",
        "    mat, cost = initialize\n",
        "\n",
        "    M = copy.deepcopy(mat)\n",
        "    N = len(M)\n",
        "\n",
        "    all_neighbors = list()\n",
        "\n",
        "    def has_a_common(c_1, c_2):\n",
        "        state = False\n",
        "        for i in c_1:\n",
        "            for j in c_2:\n",
        "                if i == j:\n",
        "                    state = True\n",
        "        return state\n",
        "\n",
        "    def swap(coor_1: tuple, coor_2: tuple, M: list):\n",
        "\n",
        "        inp_m = copy.deepcopy(M)\n",
        "\n",
        "        N = len(inp_m)\n",
        "        \n",
        "        def common_team(c_1, c_2):\n",
        "            for i in c_1:\n",
        "                for j in c_2:\n",
        "                    if i == j:\n",
        "                        return i\n",
        "\n",
        "        def value_swap(c_1, c_2, m):\n",
        "\n",
        "            if c_1 == None or c_2 == None:\n",
        "                print(m)\n",
        "                print(inp_m)\n",
        "                print(mat)\n",
        "            temp = m[c_1[0]][c_1[1]]\n",
        "            m[c_1[0]][c_1[1]] = m[c_2[0]][c_2[1]]\n",
        "            m[c_2[0]][c_2[1]] = temp\n",
        "\n",
        "        def other_team(c, t):\n",
        "            for i in c:\n",
        "                if i != t:\n",
        "                    return i\n",
        "\n",
        "        def check(t, m):\n",
        "            indexes = list((t, i) for i in range(N) if i!= t) + list((i, t) for i in range(N) if i!= t)\n",
        "            value = list()\n",
        "            for i in indexes:\n",
        "                if inp_m[i[0]][i[1]] not in value:\n",
        "                    value.append(m[i[0]][i[1]])\n",
        "            if len(value) == 2*N - 2:\n",
        "                return True\n",
        "            else:\n",
        "                return False\n",
        "\n",
        "        def find_index(c,t,m):\n",
        "            match = m[c[0]][c[1]]\n",
        "            indexes = list((t, i) for i in range(N) if i!= t) + list((i, t) for i in range(N) if i!= t)\n",
        "            indexes.remove(c)\n",
        "            for i in indexes:\n",
        "                if m[i[0]][i[1]] == match:\n",
        "                    return i\n",
        "\n",
        "        if has_a_common(coor_1, coor_2):\n",
        "\n",
        "            match_1 = inp_m[coor_1[0]][coor_1[1]]\n",
        "            match_2 = inp_m[coor_2[0]][coor_2[1]]\n",
        "\n",
        "            team_1 = common_team(coor_1, coor_2)\n",
        "            team_2 = team_1\n",
        "\n",
        "            value_swap(coor_1, coor_2, inp_m)\n",
        "\n",
        "            state_1 = check(other_team(coor_1, team_1), inp_m)\n",
        "            state_2 = check(other_team(coor_2, team_2), inp_m)\n",
        "\n",
        "            while (state_1 and state_2) == False:\n",
        "                match_1, match_2 = match_2, match_1\n",
        "\n",
        "                team_1 = other_team(coor_1, team_1)\n",
        "                team_2 = other_team(coor_2, team_2)\n",
        "\n",
        "                coor_1 = find_index(coor_1, team_1, inp_m)\n",
        "                coor_2 = find_index(coor_2, team_2, inp_m)\n",
        "\n",
        "                value_swap(coor_1, coor_2, inp_m)\n",
        "\n",
        "                state_1 = check(other_team(coor_1, team_1), inp_m)\n",
        "                state_2 = check(other_team(coor_2, team_2), inp_m)\n",
        "\n",
        "            return inp_m, compute_cost(d_mat,inp_m)\n",
        "        \n",
        "        else:\n",
        "            match_1 = inp_m[coor_1[0]][coor_1[1]]\n",
        "            match_2 = inp_m[coor_2[0]][coor_2[1]]\n",
        "\n",
        "            for i in inp_m:\n",
        "                for j in i:\n",
        "                    if j == match_1:\n",
        "                        j = match_2\n",
        "                    elif j == match_2:\n",
        "                        j = match_1\n",
        "\n",
        "            return inp_m, compute_cost(d_mat, inp_m)\n",
        "\n",
        "    def team_swap(teams):\n",
        "        a,b = teams\n",
        "        a -= 1\n",
        "        b -= 1\n",
        "        Y = copy.deepcopy(M)\n",
        "        Y_1 = numpy.array(copy.deepcopy(Y))\n",
        "        \n",
        "        def replace_in_mat(x,y,S):\n",
        "            temp = S[x].copy()\n",
        "            S[x] = S[y].copy()\n",
        "            S[y] = temp.copy()\n",
        "\n",
        "            S[x][y] = S[x][x]\n",
        "            S[x][x] = 0\n",
        "\n",
        "            S[y][x] = S[y][y]\n",
        "            S[y][y] = 0\n",
        "\n",
        "        replace_in_mat(a,b,Y_1)\n",
        "        Y_1 = Y_1.T.copy()\n",
        "        \n",
        "        replace_in_mat(a,b,Y_1)\n",
        "        Y_1 = Y_1.T.copy()\n",
        "\n",
        "        Y = copy.deepcopy(Y_1.tolist())\n",
        "\n",
        "        return Y, compute_cost(d_mat, Y)\n",
        "\n",
        "    iterate = list((i,j) for i in range(1,N + 1) for j in range(i, N + 1))\n",
        "\n",
        "    for coor in iterate:\n",
        "        mat_1, cost_1 = copy.deepcopy(team_swap(coor))\n",
        "        all_neighbors.append((mat_1, cost_1))\n",
        "\n",
        "    iterate = []\n",
        "    all_coors = [(j,i) for i in range(0,N) for j in range(0,N) if i!= j]\n",
        "    while len(all_coors) > 0:\n",
        "        coor = all_coors[0]\n",
        "        all_coors.pop(0)\n",
        "        sub_iterate = [(coor, i) for i in all_coors]\n",
        "        iterate += sub_iterate\n",
        "    \n",
        "    for coors in iterate:\n",
        "        coor_1 = coors[0]\n",
        "        coor_2 = coors[1]\n",
        "        mat_1, cost_1 = copy.deepcopy(swap(coor_1, coor_2, M))\n",
        "        all_neighbors.append((mat_1, cost_1))\n",
        "\n",
        "    return all_neighbors\n",
        "\n",
        "\n",
        "def compute_cost(distance_matrix,matrix):\n",
        "    '''compute cost of a solution'''\n",
        "    num_of_teams = len(matrix)\n",
        "    cost = 0\n",
        "    for team in range(num_of_teams):\n",
        "        current_pos = team\n",
        "        team_dis = 0\n",
        "        current_week = 0\n",
        "        while current_week < 2*num_of_teams - 2:\n",
        "            current_week = current_week + 1\n",
        "            flag = True\n",
        "            for index in range(num_of_teams):\n",
        "                if matrix[team][index] == current_week:\n",
        "                    old_pos = current_pos\n",
        "                    current_pos = index\n",
        "                    team_dis += distance_matrix[old_pos][current_pos]\n",
        "                    flag = False\n",
        "                    break\n",
        "            if flag: # da san nha\n",
        "                old_pos = current_pos\n",
        "                current_pos = team\n",
        "                team_dis += distance_matrix[old_pos][current_pos]\n",
        "\n",
        "        cost += team_dis\n",
        "        \n",
        "    return cost\n",
        "    \n"
      ]
    },
    {
      "cell_type": "code",
      "execution_count": 8,
      "metadata": {
        "colab": {
          "base_uri": "https://localhost:8080/"
        },
        "id": "3FaVVidYbBSH",
        "outputId": "39790476-425f-4ecf-f038-f877838635fc"
      },
      "outputs": [
        {
          "output_type": "stream",
          "name": "stdout",
          "text": [
            "The reasonable cost when using Local Search is 79\n"
          ]
        }
      ],
      "source": [
        "def local_solve(input):\n",
        "    # random inial\n",
        "    #input: distance matrix\n",
        "    #return the schedule: matrix , cost\n",
        "    N = len(input)\n",
        "    random_matrix = generate(N)\n",
        "    cost = compute_cost(input,random_matrix)\n",
        "    initialize = random_matrix,cost\n",
        "    flag = True\n",
        "    while flag:\n",
        "        neighbors = get_neighbors(initialize, input)\n",
        "        for neighbor in neighbors:\n",
        "            #neighbor: matrix:schedule,cost\n",
        "            schedule,cost = neighbor\n",
        "            flag = False\n",
        "            if cost < initialize[1]:\n",
        "                initialize = neighbor\n",
        "                flag = True\n",
        "    return initialize[0],initialize[1]\n",
        "config , val = local_solve(distance_matrix)\n",
        "print(f'The reasonable cost when using Local Search is {val}')\n"
      ]
    },
    {
      "cell_type": "markdown",
      "metadata": {
        "id": "Z1bs2awLbBSH"
      },
      "source": [
        "# Meta-heuristic algorithm"
      ]
    },
    {
      "cell_type": "markdown",
      "metadata": {
        "id": "Iomhg1OjbBSH"
      },
      "source": [
        "### iterative local search"
      ]
    },
    {
      "cell_type": "code",
      "execution_count": 9,
      "metadata": {
        "colab": {
          "base_uri": "https://localhost:8080/"
        },
        "id": "joAEgGwPbBSH",
        "outputId": "6b896536-7582-4457-c5f2-2ef686c6828c"
      },
      "outputs": [
        {
          "output_type": "stream",
          "name": "stdout",
          "text": [
            "The reasonable cost when using Iterative Local Search is 73\n"
          ]
        }
      ],
      "source": [
        "def iterative_local_solve(input,K):\n",
        "    best_config = None\n",
        "    best_cost = float('inf')\n",
        "    for i in range(K):\n",
        "        matrix,cost = local_solve(input)\n",
        "        if cost < best_cost:\n",
        "            best_cost = cost\n",
        "            best_config = matrix\n",
        "\n",
        "    return best_config,best_cost\n",
        "mat,cost = iterative_local_solve(distance_matrix,K=10)\n",
        "print(f'The reasonable cost when using Iterative Local Search is {cost}')\n"
      ]
    },
    {
      "cell_type": "markdown",
      "metadata": {
        "id": "HrDaX-xbbBSH"
      },
      "source": [
        "### Gibb sampling: but this method is not efficient yet"
      ]
    },
    {
      "cell_type": "code",
      "execution_count": 10,
      "metadata": {
        "id": "tMp-nOdBbBSH"
      },
      "outputs": [],
      "source": [
        "def gibb_sampling(input,K,factor):\n",
        "\n",
        "    #initialize start position\n",
        "    mat = generate(len(input))\n",
        "    current_position = (mat,compute_cost(input,mat))\n",
        "    #\n",
        "    best_mat = None\n",
        "    best_cost = float('inf')\n",
        "    for i in range(K):\n",
        "        #choosing a random number:\n",
        "        num = random.random()\n",
        "\n",
        "        list_of_neighs = get_neighbors(current_position, input) #mat,cost\n",
        "        sum_of_cost = sum(1/(factor**(x[1])) for x in list_of_neighs)\n",
        "        accumulate = 0\n",
        "        for i in range(len(list_of_neighs)):\n",
        "            mat,cost = list_of_neighs[i]\n",
        "            accumulate += 1/(factor ** cost)\n",
        "            port = accumulate / sum_of_cost\n",
        "            if port > num:\n",
        "                current_position = list_of_neighs[i-1]\n",
        "                if current_position[1] < best_cost:\n",
        "                  best_cost = current_position[1]\n",
        "                  best_mat = current_position[0]\n",
        "\n",
        "                break\n",
        "    return best_mat,best_cost\n"
      ]
    },
    {
      "cell_type": "code",
      "execution_count": 11,
      "metadata": {
        "colab": {
          "base_uri": "https://localhost:8080/"
        },
        "id": "auCaPpkPbBSI",
        "outputId": "25043c5e-20eb-494c-aad4-db30c8f2f3f9"
      },
      "outputs": [
        {
          "output_type": "stream",
          "name": "stdout",
          "text": [
            "The reasonable cost when using Gibb_sampling is 83\n"
          ]
        }
      ],
      "source": [
        "mat,cost = gibb_sampling(distance_matrix,1000,1000)\n",
        "print(f'The reasonable cost when using Gibb_sampling is {cost}')"
      ]
    },
    {
      "cell_type": "markdown",
      "metadata": {
        "id": "-Q1AKbjVbBSI"
      },
      "source": [
        "# OR-Tools"
      ]
    },
    {
      "cell_type": "code",
      "execution_count": null,
      "metadata": {
        "id": "StG1HW03bbR5"
      },
      "outputs": [],
      "source": [
        "%pip install ortools"
      ]
    },
    {
      "cell_type": "code",
      "execution_count": 14,
      "metadata": {
        "colab": {
          "base_uri": "https://localhost:8080/"
        },
        "id": "KORaJ-tGbBSI",
        "outputId": "1a3a0d7d-ce72-4515-9512-94dbac1abbf1"
      },
      "outputs": [
        {
          "output_type": "stream",
          "name": "stdout",
          "text": [
            "Solution 0, time = 0.06 s, objective = 81\n",
            "0 5 6 2 \n",
            "3 0 4 1 \n",
            "1 2 0 3 \n",
            "4 6 5 0 \n",
            "\n",
            "Solution 1, time = 0.07 s, objective = 77\n",
            "0 3 6 2 \n",
            "5 0 4 1 \n",
            "1 2 0 3 \n",
            "4 6 5 0 \n",
            "\n",
            "Solution 2, time = 0.07 s, objective = 75\n",
            "0 3 1 2 \n",
            "6 0 2 1 \n",
            "5 4 0 3 \n",
            "4 5 6 0 \n",
            "\n",
            "Solution 3, time = 0.21 s, objective = 71\n",
            "0 3 1 2 \n",
            "6 0 5 1 \n",
            "4 2 0 3 \n",
            "5 4 6 0 \n",
            "\n",
            "Minimum of objective function: 71.0\n",
            "\n",
            "0 3 1 2 \n",
            "6 0 5 1 \n",
            "4 2 0 3 \n",
            "5 4 6 0 \n",
            "\n",
            "Statistic\n",
            "  status : OPTIMAL\n",
            "  conflicts: 3238\n",
            "  branches : 4465\n",
            "  wall time: 0.8650216850000001 s\n",
            "  Reasonable cost using OR-Tools: 71.0\n",
            "\n"
          ]
        },
        {
          "output_type": "execute_result",
          "data": {
            "text/plain": [
              "([[0, 3, 1, 2], [6, 0, 5, 1], [4, 2, 0, 3], [5, 4, 6, 0]], 71.0)"
            ]
          },
          "metadata": {},
          "execution_count": 14
        }
      ],
      "source": [
        "from ortools.sat.python import cp_model\n",
        "import copy\n",
        "import time\n",
        "\n",
        "class VarArrayAndObjectiveSolutionPrinter(cp_model.CpSolverSolutionCallback):\n",
        "    \"\"\"Print intermediate solutions (objective, variable values, time).\"\"\"\n",
        "\n",
        "    def __init__(self, variables):\n",
        "        cp_model.CpSolverSolutionCallback.__init__(self)\n",
        "        self.__variables = variables\n",
        "        self.__solution_count = 0\n",
        "        self.__start_time = time.time()\n",
        "\n",
        "    def on_solution_callback(self):\n",
        "        \"\"\"Called on each new solution.\"\"\"\n",
        "        current_time = time.time()\n",
        "        obj = self.ObjectiveValue()\n",
        "        print('Solution %i, time = %0.2f s, objective = %i' %\n",
        "              (self.__solution_count, current_time - self.__start_time, obj))\n",
        "        for i in range(len(self.__variables)):\n",
        "            for j in range(len(self.__variables)):\n",
        "                print(self.Value(self.__variables[i][j]), end = ' ')\n",
        "            print()\n",
        "        print()\n",
        "        self.__solution_count += 1\n",
        "\n",
        "    def solution_count(self):\n",
        "        \"\"\"Returns the number of solutions found.\"\"\"\n",
        "        return self.__solution_count\n",
        "\n",
        "def OR_Tools_solve(input, time_limit = 300):\n",
        "    \n",
        "    distance_matrix = input\n",
        "    N = len(input)\n",
        "\n",
        "    model = cp_model.CpModel()\n",
        "\n",
        "    x = []\n",
        "    for i in range(N):\n",
        "        row = [None]*N\n",
        "        row[i] = 0\n",
        "        x.append(row)\n",
        "\n",
        "    for i in range(N):\n",
        "        for j in range(N):\n",
        "            if i == j:\n",
        "                x[i][i] = model.NewIntVar(0,0,'x[%i][%i]' % (i,i))\n",
        "            else:\n",
        "                x[i][j] = model.NewIntVar(0,2*N - 2, 'x[%i][%i]' %(i,j))\n",
        "\n",
        "    for i in range(N):\n",
        "        c = list(x[j][i] for j in range(N))\n",
        "        c.pop(i)\n",
        "        cnr = x[i] + c\n",
        "        model.AddAllDifferent(cnr)\n",
        "    \n",
        "    y = []\n",
        "    for i in range(N):\n",
        "        y_row = []\n",
        "        for j in range(2*N - 1):\n",
        "            row = [None]*(2*N - 1)\n",
        "            row[i] = 0\n",
        "            y_row.append(row)\n",
        "        y.append(y_row)\n",
        "    for i in range(N):\n",
        "        for j in range(2*N - 1):\n",
        "            for k in range(2*N - 1):\n",
        "                y[i][j][k] = model.NewBoolVar('y[%i][%i][%i]' % (i,j,k))\n",
        "    \n",
        "\n",
        "    obj_func = 0\n",
        "\n",
        "    for team in range(N):\n",
        "\n",
        "        indexes = list((team,j) for j in range(0,N) if team!= j) + list((j,team) for j in range(0,N) if team!= j)\n",
        "        index_0 = (team,team)\n",
        "\n",
        "        for i in range(len(indexes)):\n",
        "            model.Add(x[indexes[i][0]][indexes[i][1]] == x[index_0[0]][index_0[1]] + 1).OnlyEnforceIf(y[team][0][i + 1])\n",
        "            model.Add(x[indexes[i][0]][indexes[i][1]] != x[index_0[0]][index_0[1]] + 1).OnlyEnforceIf(y[team][0][i + 1].Not())\n",
        "        for i in range(len(indexes)):\n",
        "            indexes_copy = copy.deepcopy(indexes)\n",
        "            for j in range(len(indexes_copy)):\n",
        "                if i != j:\n",
        "                    model.Add(x[indexes[i][0]][indexes[i][1]] == x[indexes_copy[j][0]][indexes_copy[j][1]] - 1).OnlyEnforceIf(y[team][i + 1][j + 1])\n",
        "                    model.Add(x[indexes[i][0]][indexes[i][1]] != x[indexes_copy[j][0]][indexes_copy[j][1]] - 1).OnlyEnforceIf(y[team][i + 1][j + 1].Not())\n",
        "        \n",
        "        others = list(i for i in range(N) if i!= team)\n",
        "        for i in range(2*N - 1):\n",
        "            for j in range(2*N - 1):\n",
        "                if i == 0:\n",
        "                    if j == 0:\n",
        "                        obj_func += 0\n",
        "                    elif j <= N-1:\n",
        "                        obj_func += distance_matrix[team][others[j - 1]] * y[team][0][j]\n",
        "                    else:\n",
        "                        obj_func += distance_matrix[team][team] * y[team][0][j]\n",
        "                elif i <= N-1:\n",
        "                    if j == 0:\n",
        "                        obj_func += 0\n",
        "                    elif j <= N-1:\n",
        "                        obj_func += distance_matrix[others[i - 1]][others[j - 1]] * y[team][i][j]\n",
        "                    else:\n",
        "                        obj_func += distance_matrix[others[i - 1]][team] * y[team][i][j]\n",
        "                else:\n",
        "                    if j == 0:\n",
        "                        obj_func += 0\n",
        "                    elif j <= N-1:\n",
        "                        obj_func += distance_matrix[team][others[j - 1]] * y[team][i][j]\n",
        "                    else:\n",
        "                        obj_func += distance_matrix[team][team] * y[team][i][j]\n",
        "\n",
        "    model.Minimize(obj_func)\n",
        "    \n",
        "    solver = cp_model.CpSolver()\n",
        "    solution_printer = VarArrayAndObjectiveSolutionPrinter(x)\n",
        "    solver.parameters.max_time_in_seconds = time_limit\n",
        "    status = solver.Solve(model, solution_printer)\n",
        "    \n",
        "    result = list()\n",
        "\n",
        "    if status == cp_model.OPTIMAL or status == cp_model.FEASIBLE:\n",
        "        print(f'Minimum of objective function: {solver.ObjectiveValue()}\\n')\n",
        "        for i in range(N):\n",
        "            for j in range(N):\n",
        "                print(solver.Value(x[i][j]), end = ' ')\n",
        "            print()\n",
        "        \n",
        "        for i in range(N):\n",
        "          sub_result = list()\n",
        "          for j in range(N):\n",
        "            sub_result.append(solver.Value(x[i][j]))\n",
        "          result.append(sub_result)\n",
        "\n",
        "    else:\n",
        "        print('No solution found.')\n",
        "    \n",
        "    print('\\nStatistic')\n",
        "    print(f'  status : {solver.StatusName(status)}')\n",
        "    print(f'  conflicts: {solver.NumConflicts()}')\n",
        "    print(f'  branches : {solver.NumBranches()}')\n",
        "    print(f'  wall time: {solver.WallTime()} s')\n",
        "    print(f'  Reasonable cost using OR-Tools: {solver.ObjectiveValue()}')\n",
        "    print()\n",
        "\n",
        "    return result, solver.ObjectiveValue()\n",
        "\n",
        "OR_Tools_solve(distance_matrix, 300)"
      ]
    },
    {
      "cell_type": "markdown",
      "metadata": {
        "id": "laHLBm6ObBSI"
      },
      "source": [
        "# Compare the performance of each algorithm.\n"
      ]
    },
    {
      "cell_type": "markdown",
      "metadata": {
        "id": "tygBgUcFYElX"
      },
      "source": [
        "######`distance_matrix` :"
      ]
    },
    {
      "cell_type": "code",
      "execution_count": null,
      "metadata": {
        "id": "gd688kxtbBSJ"
      },
      "outputs": [],
      "source": [
        "import random\n",
        "\n",
        "n = int(input())\n",
        "distance_matrix = [[random.randint(0,10) for i in range(n)] for i in range(n)]\n",
        "for i in range(n):\n",
        "    distance_matrix[i][i] = 0\n",
        "    for j in range(n):\n",
        "        distance_matrix[j][i] = distance_matrix[i][j]\n",
        "print(distance_matrix)"
      ]
    },
    {
      "cell_type": "code",
      "execution_count": null,
      "metadata": {
        "id": "pwsqSYuJbBSJ"
      },
      "outputs": [],
      "source": [
        "n"
      ]
    },
    {
      "cell_type": "code",
      "execution_count": null,
      "metadata": {
        "id": "lYWuMwwid08B"
      },
      "outputs": [],
      "source": [
        "print(distance_matrix)"
      ]
    },
    {
      "cell_type": "markdown",
      "metadata": {
        "id": "0kUAhnrTYNf9"
      },
      "source": [
        "### For each algorithm:"
      ]
    },
    {
      "cell_type": "code",
      "execution_count": null,
      "metadata": {
        "id": "yX8QGDkAbBSJ"
      },
      "outputs": [],
      "source": [
        "print(beam_solve(distance_matrix,k=10))\n",
        "print(local_solve(distance_matrix)[1])\n",
        "print(iterative_local_solve(distance_matrix,K=300)[1])\n",
        "print(gibb_sampling(distance_matrix,K=1000,factor=10)[1])\n",
        "print(OR_Tools_solve(distance_matrix, time_limit = 300))"
      ]
    },
    {
      "cell_type": "markdown",
      "metadata": {
        "id": "4VbRkvjWbBSJ"
      },
      "source": [
        "### BeamSearch algorithms isn't fast because of the complexity of `get_sub_node()` func"
      ]
    },
    {
      "cell_type": "code",
      "execution_count": null,
      "metadata": {
        "id": "TBo32BZobBSK"
      },
      "outputs": [],
      "source": [
        "print(beam_solve(distance_matrix,k=10))"
      ]
    },
    {
      "cell_type": "markdown",
      "metadata": {
        "id": "ylLjUZlQmDQF"
      },
      "source": [
        "# Collect data"
      ]
    },
    {
      "cell_type": "markdown",
      "metadata": {
        "id": "bsakLAZDkRL1"
      },
      "source": [
        "To collect data from a dataset and test them, connect Colab to Drive, then open *content/drive/MyDrive/Colab Notebooks* and create 2 folders with names: \"dataset\" and \"data\".\n",
        "Upload the datasets into the dataset folder, and then run the code for results"
      ]
    },
    {
      "cell_type": "code",
      "execution_count": null,
      "metadata": {
        "colab": {
          "base_uri": "https://localhost:8080/"
        },
        "id": "C3RNs5sHcnyS",
        "outputId": "eb371c27-4509-430c-c565-975242557df4"
      },
      "outputs": [
        {
          "name": "stdout",
          "output_type": "stream",
          "text": [
            "Drive already mounted at /content/drive; to attempt to forcibly remount, call drive.mount(\"/content/drive\", force_remount=True).\n"
          ]
        }
      ],
      "source": [
        "from google.colab import drive\n",
        "drive.mount('/content/drive')"
      ]
    },
    {
      "cell_type": "markdown",
      "metadata": {
        "id": "djT49GJRYZrh"
      },
      "source": [
        "#### Collect_data functions:"
      ]
    },
    {
      "cell_type": "code",
      "execution_count": null,
      "metadata": {
        "id": "nEph8eJncnyS"
      },
      "outputs": [],
      "source": [
        "import time\n",
        "import csv\n",
        "import ast\n",
        "\n",
        "def collectdata_Backtrack(dataset):\n",
        "    rows = list()\n",
        "    fieldnames = ['No.', 'Distance_matrix', 'Feasible_solution', 'Cost', 'Solve time (sec)']\n",
        "    filename = '/content/drive/MyDrive/Colab Notebooks/data/backtrack_' + dataset[:-4] + '.csv'\n",
        "    num = 0\n",
        "\n",
        "    with open('/content/drive/MyDrive/Colab Notebooks/dataset/' + dataset, 'r') as data:\n",
        "        row = data.readline()\n",
        "        while len(row) > 1:\n",
        "            row = ast.literal_eval(row)\n",
        "            start = time.perf_counter()\n",
        "            Sol, Cost = backtrack_solve(row)\n",
        "            sol_time = time.perf_counter() - start\n",
        "            num += 1\n",
        "            temp = [num, str(row).rstrip() + '\\'', str(Sol) + '\\'', Cost, sol_time]\n",
        "            rows.append(temp)\n",
        "            row = data.readline()\n",
        "\n",
        "    with open(filename, 'w+', newline='') as file:\n",
        "        writer = csv.writer(file)\n",
        "        writer.writerow(fieldnames)\n",
        "        writer.writerows(rows)\n",
        "\n",
        "def collectdata_BeamSearch(dataset, K):\n",
        "    rows = list()\n",
        "    fieldnames = ['No.', 'Distance_matrix', 'Feasible_solution', 'Cost', 'Solve time (sec)']\n",
        "    filename = '/content/drive/MyDrive/Colab Notebooks/data/beam_search_' + dataset[:-4] + '_with_K_' + str(K) + '.csv'\n",
        "    num = 0\n",
        "\n",
        "    with open('/content/drive/MyDrive/Colab Notebooks/dataset/' + dataset, 'r') as data:\n",
        "        row = data.readline()\n",
        "        while len(row) > 1:\n",
        "            row = ast.literal_eval(row)\n",
        "            start = time.perf_counter()\n",
        "            Sol, Cost = beam_solve(row, K)\n",
        "            sol_time = time.perf_counter() - start\n",
        "            num += 1\n",
        "            temp = [num, str(row).rstrip() + '\\'', str(Sol) + '\\'', Cost, sol_time]\n",
        "            rows.append(temp)\n",
        "            row = data.readline()\n",
        "\n",
        "    with open(filename, 'w+', newline='') as file:\n",
        "        writer = csv.writer(file)\n",
        "        writer.writerow(fieldnames)\n",
        "        writer.writerows(rows)\n",
        "\n",
        "def collectdata_LocalSolve(dataset, i = 1):\n",
        "    rows = list()\n",
        "    fieldnames = ['No.', 'Repeat no.', 'Distance_matrix', 'Feasible_solution', 'Cost', 'Solve time (sec)']\n",
        "    filename = '/content/drive/MyDrive/Colab Notebooks/data/local_solve_' + str(i) + '_' + dataset[:-4] + '.csv'\n",
        "    num = 0\n",
        "\n",
        "    with open('/content/drive/MyDrive/Colab Notebooks/dataset/' + dataset, 'r') as data:\n",
        "        row = data.readline()\n",
        "        while len(row) > 1:\n",
        "            row = ast.literal_eval(row)\n",
        "            num += 1\n",
        "            for j in range(i):\n",
        "                start = time.perf_counter()\n",
        "                Sol, Cost = local_solve(row)\n",
        "                sol_time = time.perf_counter() - start\n",
        "                temp = [num, j, str(row).rstrip() + '\\'', str(Sol) + '\\'', Cost, sol_time]\n",
        "                rows.append(temp)\n",
        "            row = data.readline()\n",
        "\n",
        "    with open(filename, 'w+', newline='') as file:\n",
        "        writer = csv.writer(file)\n",
        "        writer.writerow(fieldnames)\n",
        "        writer.writerows(rows)\n",
        "\n",
        "def collectdata_IterLocalSolve(dataset, K, i = 1):\n",
        "    rows = list()\n",
        "    fieldnames = ['No.', 'Repeat no.', 'Distance_matrix', 'Feasible_solution', 'Cost', 'Solve time (sec)']\n",
        "    filename = '/content/drive/MyDrive/Colab Notebooks/data/iterative_local_solve_' + str(i) + '_' + dataset[:-4] + '_with_K_' + str(K) + '.csv'\n",
        "    num = 0\n",
        "\n",
        "    with open('/content/drive/MyDrive/Colab Notebooks/dataset/' + dataset, 'r') as data:\n",
        "        row = data.readline()\n",
        "        while len(row) > 1:\n",
        "            row = ast.literal_eval(row)\n",
        "            num += 1\n",
        "            for j in range(i):\n",
        "                start = time.perf_counter()\n",
        "                Sol, Cost = iterative_local_solve(row, K)\n",
        "                sol_time = time.perf_counter() - start\n",
        "                temp = [num, j, str(row).rstrip() + '\\'', str(Sol) + '\\'', Cost, sol_time]\n",
        "                rows.append(temp)\n",
        "            row = data.readline()\n",
        "\n",
        "    with open(filename, 'w+', newline='') as file:\n",
        "        writer = csv.writer(file)\n",
        "        writer.writerow(fieldnames)\n",
        "        writer.writerows(rows)\n",
        "\n",
        "def collectdata_GibbSampling(dataset, K, factor, i = 1):\n",
        "    rows = list()\n",
        "    fieldnames = ['No.', 'Repeat no.', 'Distance_matrix', 'Feasible_solution', 'Cost', 'Solve time (sec)']\n",
        "    filename = '/content/drive/MyDrive/Colab Notebooks/data/gibb_sampling_'+  str(i) + '_' + dataset[:-4] + '_with_K_' + str(K) + '_factor_' + str(factor) + '.csv'\n",
        "    num = 0\n",
        "\n",
        "    with open('/content/drive/MyDrive/Colab Notebooks/dataset/' + dataset, 'r') as data:\n",
        "        row = data.readline()\n",
        "        while len(row) > 1:\n",
        "            row = ast.literal_eval(row)\n",
        "\n",
        "            print(row)\n",
        "            \n",
        "            num += 1\n",
        "            for j in range(i):\n",
        "                start = time.perf_counter()\n",
        "                Sol, Cost = gibb_sampling(row, K, factor)\n",
        "                sol_time = time.perf_counter() - start\n",
        "\n",
        "                print(sol_time)\n",
        "\n",
        "                temp = [num, j, str(row).rstrip() + '\\'', str(Sol) + '\\'', Cost, sol_time]\n",
        "                rows.append(temp)\n",
        "            row = data.readline()\n",
        "\n",
        "    with open(filename, 'w+', newline='') as file:\n",
        "        writer = csv.writer(file)\n",
        "        writer.writerow(fieldnames)\n",
        "        writer.writerows(rows)\n",
        "\n",
        "def collectdata_ORTools(dataset, time_limit = 30, i = 1):\n",
        "    rows = list()\n",
        "    fieldnames = ['No.','Repeat no.', 'Distance_matrix', 'Feasible_solution', 'Cost', 'Solve time (sec)']\n",
        "    filename = '/content/drive/MyDrive/Colab Notebooks/data/or_tools_' + str(i) + '_' + dataset[:-4] + '_with_time_limit_' + str(time_limit) + '.csv'\n",
        "    num = 0\n",
        "\n",
        "    with open('/content/drive/MyDrive/Colab Notebooks/dataset/' + dataset, 'r') as data:\n",
        "        row = data.readline()\n",
        "        while len(row) > 1:\n",
        "            row = ast.literal_eval(row)\n",
        "            num += 1\n",
        "            for j in range(i):\n",
        "                start = time.perf_counter()\n",
        "                Sol, Cost = OR_Tools_solve(row, time_limit)\n",
        "                sol_time = time.perf_counter() - start\n",
        "                temp = [num, j, str(row).rstrip() + '\\'', str(Sol) + '\\'', Cost, sol_time]\n",
        "                rows.append(temp)\n",
        "            row = data.readline()\n",
        "\n",
        "    with open(filename, 'w+', newline='') as file:\n",
        "        writer = csv.writer(file)\n",
        "        writer.writerow(fieldnames)\n",
        "        writer.writerows(rows)\n",
        "\n"
      ]
    },
    {
      "cell_type": "markdown",
      "metadata": {
        "id": "RL6cS89RYkAw"
      },
      "source": [
        "#### Collect the data from each dataset, for each algorithm:"
      ]
    },
    {
      "cell_type": "markdown",
      "metadata": {
        "id": "v7BwDBdAdikl"
      },
      "source": [
        "###### Backtrack"
      ]
    },
    {
      "cell_type": "code",
      "execution_count": null,
      "metadata": {
        "id": "0Rwrngs1csSG"
      },
      "outputs": [],
      "source": [
        "collectdata_Backtrack('dataset_4.txt')"
      ]
    },
    {
      "cell_type": "markdown",
      "metadata": {
        "id": "LiXja1DcdkWZ"
      },
      "source": [
        "###### BeamSearch"
      ]
    },
    {
      "cell_type": "code",
      "execution_count": null,
      "metadata": {
        "id": "cOLCtGsbctkH"
      },
      "outputs": [],
      "source": [
        "collectdata_BeamSearch('dataset_4.txt', 10)\n",
        "collectdata_BeamSearch('dataset_6.txt', 10)\n",
        "collectdata_BeamSearch('dataset_8.txt', 10)"
      ]
    },
    {
      "cell_type": "markdown",
      "metadata": {
        "id": "E9FPo2M8dnI-"
      },
      "source": [
        "###### Local Search"
      ]
    },
    {
      "cell_type": "code",
      "execution_count": null,
      "metadata": {
        "colab": {
          "background_save": true
        },
        "id": "z3Fiha13cPUu"
      },
      "outputs": [],
      "source": [
        "collectdata_LocalSolve('dataset_4.txt', 10)\n",
        "collectdata_LocalSolve('dataset_6.txt', 10)\n",
        "collectdata_LocalSolve('dataset_8.txt', 10)\n",
        "collectdata_LocalSolve('dataset_10.txt', 10)\n",
        "collectdata_LocalSolve('dataset_12.txt', 10)\n",
        "collectdata_LocalSolve('dataset_14.txt', 10)\n",
        "collectdata_LocalSolve('dataset_16.txt', 10)\n",
        "collectdata_LocalSolve('dataset_18.txt', 10)"
      ]
    },
    {
      "cell_type": "markdown",
      "metadata": {
        "id": "pcTBmIp1dq5e"
      },
      "source": [
        "###### Iterative Local Search"
      ]
    },
    {
      "cell_type": "code",
      "execution_count": null,
      "metadata": {
        "colab": {
          "background_save": true
        },
        "id": "8ttgIvIvcPcX"
      },
      "outputs": [],
      "source": [
        "collectdata_IterLocalSolve('dataset_4.txt', 20)\n",
        "collectdata_IterLocalSolve('dataset_6.txt', 20)\n",
        "collectdata_IterLocalSolve('dataset_8.txt', 20)\n",
        "collectdata_IterLocalSolve('dataset_10.txt', 20)\n",
        "collectdata_IterLocalSolve('dataset_12.txt', 20)\n",
        "collectdata_IterLocalSolve('dataset_14.txt', 20)\n",
        "collectdata_IterLocalSolve('dataset_16.txt', 20)\n",
        "collectdata_IterLocalSolve('dataset_18.txt', 20)"
      ]
    },
    {
      "cell_type": "markdown",
      "metadata": {
        "id": "yA0-Lciudvon"
      },
      "source": [
        "###### Gibb Sampling"
      ]
    },
    {
      "cell_type": "code",
      "execution_count": null,
      "metadata": {
        "id": "6PI0vnxBcPjq"
      },
      "outputs": [],
      "source": [
        "collectdata_GibbSampling('dataset_4.txt', 20, 10, 10)\n",
        "collectdata_GibbSampling('dataset_6.txt', 20, 2, 10)\n",
        "collectdata_GibbSampling('dataset_8.txt', 20, 2, 10)\n",
        "collectdata_GibbSampling('dataset_10.txt', 20, 1.5, 10)\n",
        "collectdata_GibbSampling('dataset_12.txt', 20, 1.25, 10)\n",
        "collectdata_GibbSampling('dataset_14.txt', 20, 1.125, 10)\n",
        "collectdata_GibbSampling('dataset_16.txt', 20, 1.0625, 10)\n",
        "collectdata_GibbSampling('dataset_18.txt', 20, 1.0625, 10)"
      ]
    },
    {
      "cell_type": "markdown",
      "metadata": {
        "id": "Ydm636ZZdzvO"
      },
      "source": [
        "###### OR-Tools"
      ]
    },
    {
      "cell_type": "code",
      "execution_count": null,
      "metadata": {
        "id": "4HnK8oDXcQCL"
      },
      "outputs": [],
      "source": [
        "collectdata_ORTools('dataset_4.txt', 30)\n",
        "collectdata_ORTools('dataset_6.txt', 30)\n",
        "collectdata_ORTools('dataset_8.txt', 60)\n",
        "collectdata_ORTools('dataset_10.txt', 120)\n",
        "collectdata_ORTools('dataset_12.txt', 150)\n",
        "collectdata_ORTools('dataset_14.txt', 150\n",
        "collectdata_ORTools('dataset_16.txt', 150)\n",
        "collectdata_ORTools('dataset_18.txt', 150)"
      ]
    }
  ],
  "metadata": {
    "colab": {
      "provenance": []
    },
    "kernelspec": {
      "display_name": "base",
      "language": "python",
      "name": "python3"
    },
    "language_info": {
      "codemirror_mode": {
        "name": "ipython",
        "version": 3
      },
      "file_extension": ".py",
      "mimetype": "text/x-python",
      "name": "python",
      "nbconvert_exporter": "python",
      "pygments_lexer": "ipython3",
      "version": "3.9.15"
    },
    "vscode": {
      "interpreter": {
        "hash": "37b772b8372175f31391f07c9d48a411a293be37b3c470e4e0cb7a99db3cc851"
      }
    }
  },
  "nbformat": 4,
  "nbformat_minor": 0
}